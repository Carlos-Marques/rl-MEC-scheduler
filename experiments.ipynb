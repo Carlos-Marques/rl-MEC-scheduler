{
 "cells": [
  {
   "cell_type": "code",
   "execution_count": 2,
   "metadata": {},
   "outputs": [],
   "source": [
    "import gym\n",
    "from gym.utils import seeding\n",
    "from rl_MEC_scheduler.handlers.env_handler import NetworkEnv\n",
    "from rl_MEC_scheduler.services.env_services import get_MECs, get_UEs\n",
    "from rl_MEC_scheduler.values.network_values import Network\n",
    "from rl_MEC_scheduler.values.task_values import TaskDistributions\n",
    "from rl_MEC_scheduler.repository.config_repository import load_configs, save_configs\n",
    "from rl_MEC_scheduler.handlers.env_handler import load_envs\n",
    "from rl_MEC_scheduler.handlers.baselines import get_baselines"
   ]
  },
  {
   "cell_type": "code",
   "execution_count": 3,
   "metadata": {},
   "outputs": [],
   "source": [
    "seed_value = 69"
   ]
  },
  {
   "cell_type": "code",
   "execution_count": 4,
   "metadata": {},
   "outputs": [],
   "source": [
    "task_distributions = TaskDistributions(\n",
    "    input_data_mean=250e3,\n",
    "    input_data_std=1e3,\n",
    "    output_data_mean=25e3,\n",
    "    output_data_std=1e2,\n",
    "    n_cycles_mean=900e6,\n",
    "    n_cycles_std=50e6,\n",
    "    energy_weight=0.5,\n",
    "    delay_weight=0.5,\n",
    ")"
   ]
  },
  {
   "cell_type": "code",
   "execution_count": 5,
   "metadata": {},
   "outputs": [],
   "source": [
    "network = Network(\n",
    "    bandwidth=10e9, \n",
    "    n_subcarriers=10, \n",
    "    path_loss_exponent=-4, \n",
    "    upload_channel_fading_coefficient=100, \n",
    "    download_channel_fading_coefficient=100, \n",
    "    upload_bit_error_rate=1, \n",
    "    download_bit_error_rate=1, \n",
    "    noise_power=5e-5,\n",
    "    signal_noise_ratio=0.5, \n",
    "    n_devices=10\n",
    ")"
   ]
  },
  {
   "cell_type": "code",
   "execution_count": 6,
   "metadata": {},
   "outputs": [],
   "source": [
    "n_MECs = 5\n",
    "n_UEs = 10\n",
    "mean_weight = 0.25\n",
    "max_weight = 0.75\n",
    "configs_filename = f\"env_{n_MECs}_{n_UEs}_{mean_weight}_{max_weight}_configs.json\""
   ]
  },
  {
   "cell_type": "code",
   "execution_count": 7,
   "metadata": {},
   "outputs": [],
   "source": [
    "np_random, seed = seeding.np_random(seed_value)"
   ]
  },
  {
   "cell_type": "code",
   "execution_count": 8,
   "metadata": {},
   "outputs": [],
   "source": [
    "MECs = get_MECs(np_random=np_random, radius=200, n_MECs=n_MECs, frequency=5e9, transmission_power=200, n_dimensions=2)"
   ]
  },
  {
   "cell_type": "code",
   "execution_count": 9,
   "metadata": {},
   "outputs": [],
   "source": [
    "UEs = get_UEs(np_random=np_random, radius=200, n_UEs=n_UEs, frequency=1e9, tranmsission_power=500e-3, idle_power=100e-3, download_power=200e-3, n_dimensions=2)"
   ]
  },
  {
   "cell_type": "code",
   "execution_count": 236,
   "metadata": {},
   "outputs": [],
   "source": [
    "F = [2.5e9, 5e9, 7e9, 10e9]\n",
    "f = [0.25e9, 0.5e9, 0.75e9, 1e9]\n",
    "F_choices = np_random.choice(F, size=n_MECs)\n",
    "f_choices = np_random.choice(f, size=n_UEs)\n",
    "\n",
    "for idx, UE in enumerate(UEs):\n",
    "    UE.frequency = f_choices[idx]\n",
    "\n",
    "for idx, MEC in enumerate(MECs):\n",
    "    MEC.frequency = F_choices[idx]\n",
    "\n",
    "configs_filename = f\"env_{n_MECs}_{n_UEs}_{mean_weight}_{max_weight}_heterogenous_configs.json\""
   ]
  },
  {
   "cell_type": "code",
   "execution_count": 10,
   "metadata": {},
   "outputs": [],
   "source": [
    "network_env = NetworkEnv(seed_value=seed_value, UEs=UEs, MECs=MECs, network=network, task_distributions=task_distributions, mean_weight=mean_weight, max_weight=max_weight)"
   ]
  },
  {
   "cell_type": "code",
   "execution_count": 187,
   "metadata": {},
   "outputs": [],
   "source": [
    "save_configs(configs=(network_env, ), configs_path=\"experiments/env_configs\", configs_filename=configs_filename)"
   ]
  },
  {
   "cell_type": "code",
   "execution_count": 188,
   "metadata": {},
   "outputs": [],
   "source": [
    "network_env = load_envs(config_path=\"experiments/env_configs\", config_filename=configs_filename)[0]"
   ]
  },
  {
   "cell_type": "code",
   "execution_count": 11,
   "metadata": {},
   "outputs": [],
   "source": [
    "gym.register(\n",
    "    id=\"NetworkEnv-v0\",\n",
    "    entry_point=NetworkEnv,\n",
    "    max_episode_steps=10,\n",
    ")"
   ]
  },
  {
   "cell_type": "code",
   "execution_count": 12,
   "metadata": {},
   "outputs": [],
   "source": [
    "test = gym.make(\n",
    "    \"NetworkEnv-v0\",\n",
    "    seed_value=network_env.seed_value,\n",
    "    UEs=network_env.UEs,\n",
    "    MECs=network_env.MECs,\n",
    "    network=network_env.network,\n",
    "    task_distributions=network_env.task_distributions,\n",
    "    mean_weight=network_env.mean_weight,\n",
    "    max_weight=network_env.max_weight,\n",
    ")\n"
   ]
  },
  {
   "cell_type": "code",
   "execution_count": 191,
   "metadata": {},
   "outputs": [
    {
     "data": {
      "text/plain": [
       "MultiDiscrete([6 6 6 6 6 6 6 6 6 6])"
      ]
     },
     "execution_count": 191,
     "metadata": {},
     "output_type": "execute_result"
    }
   ],
   "source": [
    "test.action_space"
   ]
  },
  {
   "cell_type": "code",
   "execution_count": 192,
   "metadata": {},
   "outputs": [
    {
     "data": {
      "text/plain": [
       "Box([-inf -inf -inf -inf -inf -inf -inf -inf -inf -inf -inf -inf -inf -inf\n",
       " -inf -inf -inf -inf -inf -inf -inf -inf -inf -inf -inf -inf -inf -inf\n",
       " -inf -inf -inf -inf -inf -inf -inf -inf -inf -inf -inf -inf -inf -inf\n",
       " -inf -inf -inf -inf -inf -inf -inf -inf], [inf inf inf inf inf inf inf inf inf inf inf inf inf inf inf inf inf inf\n",
       " inf inf inf inf inf inf inf inf inf inf inf inf inf inf inf inf inf inf\n",
       " inf inf inf inf inf inf inf inf inf inf inf inf inf inf], (50,), float32)"
      ]
     },
     "execution_count": 192,
     "metadata": {},
     "output_type": "execute_result"
    }
   ],
   "source": [
    "test.observation_space"
   ]
  },
  {
   "cell_type": "code",
   "execution_count": 193,
   "metadata": {},
   "outputs": [
    {
     "data": {
      "text/plain": [
       "array([ 0.5239526 , -0.927064  , -0.3074574 , -0.00752609, -0.8569565 ,\n",
       "        0.31815994, -0.83336896, -0.46278098, -0.65764856, -0.38443372,\n",
       "       -0.3615482 ,  0.39212397, -1.3239219 ,  2.0862415 ,  1.6996266 ,\n",
       "        0.7714624 , -1.8710977 ,  3.1095166 ,  0.19123371, -0.75557584,\n",
       "       -0.45274135, -0.5697951 , -0.21303335, -0.34041145,  0.5220014 ,\n",
       "       -1.2441846 ,  1.2808634 , -0.52797014,  1.836694  , -2.2399435 ,\n",
       "       -1.851473  , -0.02394267,  0.5634694 , -0.08593217, -0.31261355,\n",
       "       -0.8118017 ,  0.73563117,  1.1906698 ,  0.01777816,  1.376192  ,\n",
       "        0.84076226, -0.8396343 ,  0.22180615, -1.7599131 , -2.1892188 ,\n",
       "        0.12928349,  1.3911653 ,  0.05191914,  0.14905316, -0.9578807 ],\n",
       "      dtype=float32)"
      ]
     },
     "execution_count": 193,
     "metadata": {},
     "output_type": "execute_result"
    }
   ],
   "source": [
    "test.observation_space.sample()"
   ]
  },
  {
   "cell_type": "code",
   "execution_count": 194,
   "metadata": {},
   "outputs": [],
   "source": [
    "baselines = get_baselines(test, n_episodes=100, n_steps=10)"
   ]
  },
  {
   "cell_type": "code",
   "execution_count": 195,
   "metadata": {},
   "outputs": [
    {
     "data": {
      "text/plain": [
       "((-55.22211456298828, -53.75888216972351, -52.795289516448975),\n",
       " (-4.374692648649216, -4.274915562868118, -4.194172382354736),\n",
       " (-52.39925003051758, -43.479267512112855, -26.12819328904152))"
      ]
     },
     "execution_count": 195,
     "metadata": {},
     "output_type": "execute_result"
    }
   ],
   "source": [
    "baselines"
   ]
  },
  {
   "cell_type": "code",
   "execution_count": 150,
   "metadata": {},
   "outputs": [
    {
     "data": {
      "text/plain": [
       "((-52.687682342529286, -51.630370982170106, -50.96762375831604),\n",
       " (-3.981195914745331, -3.9191472482681275, -3.8643453329801565),\n",
       " (-33.183290886878964, -26.902035977378482, -15.900616541504858))"
      ]
     },
     "execution_count": 150,
     "metadata": {},
     "output_type": "execute_result"
    }
   ],
   "source": [
    "baselines"
   ]
  },
  {
   "cell_type": "code",
   "execution_count": 13,
   "metadata": {},
   "outputs": [],
   "source": [
    "import ray\n",
    "from ray.rllib.agents import a3c\n",
    "from ray.tune.registry import register_env"
   ]
  },
  {
   "cell_type": "code",
   "execution_count": 14,
   "metadata": {},
   "outputs": [],
   "source": [
    "ray.shutdown()"
   ]
  },
  {
   "cell_type": "code",
   "execution_count": 15,
   "metadata": {},
   "outputs": [],
   "source": [
    "register_env(\n",
    "    \"NetWorkEnv-v0\",\n",
    "    lambda config: NetworkEnv(\n",
    "        seed_value=seed_value,\n",
    "        UEs=UEs,\n",
    "        MECs=MECs,\n",
    "        network=network,\n",
    "        task_distributions=task_distributions,\n",
    "        mean_weight=mean_weight,\n",
    "        max_weight=max_weight\n",
    "    ),\n",
    "    \n",
    ")"
   ]
  },
  {
   "cell_type": "code",
   "execution_count": 16,
   "metadata": {},
   "outputs": [
    {
     "name": "stderr",
     "output_type": "stream",
     "text": [
      "2022-05-24 23:17:37,322\tINFO services.py:1456 -- View the Ray dashboard at \u001b[1m\u001b[32mhttp://127.0.0.1:8265\u001b[39m\u001b[22m\n",
      "\u001b[2m\u001b[36m(RolloutWorker pid=35593)\u001b[0m 2022-05-24 23:17:44,824\tWARNING rollout_worker.py:498 -- We've added a module for checking environments that are used in experiments. It will cause your environment to fail if your environment is not set upcorrectly. You can disable check env by setting `disable_env_checking` to True in your experiment config dictionary. You can run the environment checking module standalone by calling ray.rllib.utils.check_env(env).\n",
      "\u001b[2m\u001b[36m(RolloutWorker pid=35593)\u001b[0m 2022-05-24 23:17:44,824\tWARNING env.py:120 -- Your env doesn't have a .spec.max_episode_steps attribute. This is fine if you have set 'horizon' in your config dictionary, or `soft_horizon`. However, if you haven't, 'horizon' will default to infinity, and your environment will not be reset.\n",
      "\u001b[2m\u001b[36m(RolloutWorker pid=35597)\u001b[0m 2022-05-24 23:17:44,947\tWARNING rollout_worker.py:498 -- We've added a module for checking environments that are used in experiments. It will cause your environment to fail if your environment is not set upcorrectly. You can disable check env by setting `disable_env_checking` to True in your experiment config dictionary. You can run the environment checking module standalone by calling ray.rllib.utils.check_env(env).\n",
      "\u001b[2m\u001b[36m(RolloutWorker pid=35597)\u001b[0m 2022-05-24 23:17:44,947\tWARNING env.py:120 -- Your env doesn't have a .spec.max_episode_steps attribute. This is fine if you have set 'horizon' in your config dictionary, or `soft_horizon`. However, if you haven't, 'horizon' will default to infinity, and your environment will not be reset.\n",
      "\u001b[2m\u001b[36m(RolloutWorker pid=35594)\u001b[0m 2022-05-24 23:17:45,037\tWARNING rollout_worker.py:498 -- We've added a module for checking environments that are used in experiments. It will cause your environment to fail if your environment is not set upcorrectly. You can disable check env by setting `disable_env_checking` to True in your experiment config dictionary. You can run the environment checking module standalone by calling ray.rllib.utils.check_env(env).\n",
      "\u001b[2m\u001b[36m(RolloutWorker pid=35594)\u001b[0m 2022-05-24 23:17:45,037\tWARNING env.py:120 -- Your env doesn't have a .spec.max_episode_steps attribute. This is fine if you have set 'horizon' in your config dictionary, or `soft_horizon`. However, if you haven't, 'horizon' will default to infinity, and your environment will not be reset.\n",
      "\u001b[2m\u001b[36m(RolloutWorker pid=35599)\u001b[0m 2022-05-24 23:17:44,996\tWARNING rollout_worker.py:498 -- We've added a module for checking environments that are used in experiments. It will cause your environment to fail if your environment is not set upcorrectly. You can disable check env by setting `disable_env_checking` to True in your experiment config dictionary. You can run the environment checking module standalone by calling ray.rllib.utils.check_env(env).\n",
      "\u001b[2m\u001b[36m(RolloutWorker pid=35599)\u001b[0m 2022-05-24 23:17:44,996\tWARNING env.py:120 -- Your env doesn't have a .spec.max_episode_steps attribute. This is fine if you have set 'horizon' in your config dictionary, or `soft_horizon`. However, if you haven't, 'horizon' will default to infinity, and your environment will not be reset.\n",
      "\u001b[2m\u001b[36m(RolloutWorker pid=35595)\u001b[0m 2022-05-24 23:17:45,102\tWARNING rollout_worker.py:498 -- We've added a module for checking environments that are used in experiments. It will cause your environment to fail if your environment is not set upcorrectly. You can disable check env by setting `disable_env_checking` to True in your experiment config dictionary. You can run the environment checking module standalone by calling ray.rllib.utils.check_env(env).\n",
      "\u001b[2m\u001b[36m(RolloutWorker pid=35595)\u001b[0m 2022-05-24 23:17:45,102\tWARNING env.py:120 -- Your env doesn't have a .spec.max_episode_steps attribute. This is fine if you have set 'horizon' in your config dictionary, or `soft_horizon`. However, if you haven't, 'horizon' will default to infinity, and your environment will not be reset.\n",
      "\u001b[2m\u001b[36m(RolloutWorker pid=35603)\u001b[0m 2022-05-24 23:17:45,299\tWARNING rollout_worker.py:498 -- We've added a module for checking environments that are used in experiments. It will cause your environment to fail if your environment is not set upcorrectly. You can disable check env by setting `disable_env_checking` to True in your experiment config dictionary. You can run the environment checking module standalone by calling ray.rllib.utils.check_env(env).\n",
      "\u001b[2m\u001b[36m(RolloutWorker pid=35603)\u001b[0m 2022-05-24 23:17:45,299\tWARNING env.py:120 -- Your env doesn't have a .spec.max_episode_steps attribute. This is fine if you have set 'horizon' in your config dictionary, or `soft_horizon`. However, if you haven't, 'horizon' will default to infinity, and your environment will not be reset.\n",
      "\u001b[2m\u001b[36m(RolloutWorker pid=35601)\u001b[0m 2022-05-24 23:17:45,512\tWARNING rollout_worker.py:498 -- We've added a module for checking environments that are used in experiments. It will cause your environment to fail if your environment is not set upcorrectly. You can disable check env by setting `disable_env_checking` to True in your experiment config dictionary. You can run the environment checking module standalone by calling ray.rllib.utils.check_env(env).\n",
      "\u001b[2m\u001b[36m(RolloutWorker pid=35601)\u001b[0m 2022-05-24 23:17:45,512\tWARNING env.py:120 -- Your env doesn't have a .spec.max_episode_steps attribute. This is fine if you have set 'horizon' in your config dictionary, or `soft_horizon`. However, if you haven't, 'horizon' will default to infinity, and your environment will not be reset.\n",
      "\u001b[2m\u001b[36m(RolloutWorker pid=35606)\u001b[0m 2022-05-24 23:17:45,606\tWARNING rollout_worker.py:498 -- We've added a module for checking environments that are used in experiments. It will cause your environment to fail if your environment is not set upcorrectly. You can disable check env by setting `disable_env_checking` to True in your experiment config dictionary. You can run the environment checking module standalone by calling ray.rllib.utils.check_env(env).\n",
      "\u001b[2m\u001b[36m(RolloutWorker pid=35606)\u001b[0m 2022-05-24 23:17:45,607\tWARNING env.py:120 -- Your env doesn't have a .spec.max_episode_steps attribute. This is fine if you have set 'horizon' in your config dictionary, or `soft_horizon`. However, if you haven't, 'horizon' will default to infinity, and your environment will not be reset.\n",
      "2022-05-24 23:17:49,842\tINFO trainable.py:152 -- Trainable.setup took 14.711 seconds. If your trainable is slow to initialize, consider setting reuse_actors=True to reduce actor creation overheads.\n"
     ]
    }
   ],
   "source": [
    "# Configure the algorithm.\n",
    "config = {\n",
    "            # Environment (RLlib understands openAI gym registered strings).\n",
    "            \"env\": \"NetWorkEnv-v0\",\n",
    "            # Use 2 environment workers (aka \"rollout workers\") that parallelly\n",
    "            # collect samples from their own environment clone(s).\n",
    "            \"num_workers\": 8,\n",
    "            # Change this to \"framework: torch\", if you are using PyTorch.\n",
    "            # Also, use \"framework: tf2\" for tf2.x eager execution.\n",
    "            \"framework\": \"tf\",\n",
    "            \"horizon\": 10\n",
    "}\n",
    "\n",
    "# Create our RLlib Trainer.\n",
    "trainer = a3c.A2CTrainer(config=config)"
   ]
  },
  {
   "cell_type": "code",
   "execution_count": 126,
   "metadata": {},
   "outputs": [
    {
     "data": {
      "text/plain": [
       "{'num_workers': 8,\n",
       " 'num_envs_per_worker': 1,\n",
       " 'create_env_on_driver': False,\n",
       " 'rollout_fragment_length': 20,\n",
       " 'batch_mode': 'truncate_episodes',\n",
       " 'gamma': 0.99,\n",
       " 'lr': 0.0001,\n",
       " 'train_batch_size': 200,\n",
       " 'model': {'_use_default_native_models': False,\n",
       "  '_disable_preprocessor_api': False,\n",
       "  '_disable_action_flattening': False,\n",
       "  'fcnet_hiddens': [256, 256],\n",
       "  'fcnet_activation': 'tanh',\n",
       "  'conv_filters': None,\n",
       "  'conv_activation': 'relu',\n",
       "  'post_fcnet_hiddens': [],\n",
       "  'post_fcnet_activation': 'relu',\n",
       "  'free_log_std': False,\n",
       "  'no_final_linear': False,\n",
       "  'vf_share_layers': True,\n",
       "  'use_lstm': False,\n",
       "  'max_seq_len': 20,\n",
       "  'lstm_cell_size': 256,\n",
       "  'lstm_use_prev_action': False,\n",
       "  'lstm_use_prev_reward': False,\n",
       "  '_time_major': False,\n",
       "  'use_attention': False,\n",
       "  'attention_num_transformer_units': 1,\n",
       "  'attention_dim': 64,\n",
       "  'attention_num_heads': 1,\n",
       "  'attention_head_dim': 32,\n",
       "  'attention_memory_inference': 50,\n",
       "  'attention_memory_training': 50,\n",
       "  'attention_position_wise_mlp_dim': 32,\n",
       "  'attention_init_gru_gate_bias': 2.0,\n",
       "  'attention_use_n_prev_actions': 0,\n",
       "  'attention_use_n_prev_rewards': 0,\n",
       "  'framestack': True,\n",
       "  'dim': 84,\n",
       "  'grayscale': False,\n",
       "  'zero_mean': True,\n",
       "  'custom_model': None,\n",
       "  'custom_model_config': {},\n",
       "  'custom_action_dist': None,\n",
       "  'custom_preprocessor': None,\n",
       "  'lstm_use_prev_action_reward': -1},\n",
       " 'optimizer': {},\n",
       " 'horizon': 10,\n",
       " 'soft_horizon': False,\n",
       " 'no_done_at_end': False,\n",
       " 'env': 'NetWorkEnv-v0',\n",
       " 'observation_space': None,\n",
       " 'action_space': None,\n",
       " 'env_config': {},\n",
       " 'remote_worker_envs': False,\n",
       " 'remote_env_batch_wait_ms': 0,\n",
       " 'env_task_fn': None,\n",
       " 'render_env': False,\n",
       " 'record_env': False,\n",
       " 'clip_rewards': None,\n",
       " 'normalize_actions': True,\n",
       " 'clip_actions': False,\n",
       " 'preprocessor_pref': 'deepmind',\n",
       " 'log_level': 'WARN',\n",
       " 'callbacks': ray.rllib.agents.callbacks.DefaultCallbacks,\n",
       " 'ignore_worker_failures': False,\n",
       " 'log_sys_usage': True,\n",
       " 'fake_sampler': False,\n",
       " 'framework': 'tf',\n",
       " 'eager_tracing': False,\n",
       " 'eager_max_retraces': 20,\n",
       " 'explore': True,\n",
       " 'exploration_config': {'type': 'StochasticSampling'},\n",
       " 'evaluation_interval': None,\n",
       " 'evaluation_duration': 10,\n",
       " 'evaluation_duration_unit': 'episodes',\n",
       " 'evaluation_parallel_to_training': False,\n",
       " 'in_evaluation': False,\n",
       " 'evaluation_config': {'num_workers': 8,\n",
       "  'num_envs_per_worker': 1,\n",
       "  'create_env_on_driver': False,\n",
       "  'rollout_fragment_length': 20,\n",
       "  'batch_mode': 'truncate_episodes',\n",
       "  'gamma': 0.99,\n",
       "  'lr': 0.0001,\n",
       "  'train_batch_size': 200,\n",
       "  'model': {'_use_default_native_models': False,\n",
       "   '_disable_preprocessor_api': False,\n",
       "   '_disable_action_flattening': False,\n",
       "   'fcnet_hiddens': [256, 256],\n",
       "   'fcnet_activation': 'tanh',\n",
       "   'conv_filters': None,\n",
       "   'conv_activation': 'relu',\n",
       "   'post_fcnet_hiddens': [],\n",
       "   'post_fcnet_activation': 'relu',\n",
       "   'free_log_std': False,\n",
       "   'no_final_linear': False,\n",
       "   'vf_share_layers': True,\n",
       "   'use_lstm': False,\n",
       "   'max_seq_len': 20,\n",
       "   'lstm_cell_size': 256,\n",
       "   'lstm_use_prev_action': False,\n",
       "   'lstm_use_prev_reward': False,\n",
       "   '_time_major': False,\n",
       "   'use_attention': False,\n",
       "   'attention_num_transformer_units': 1,\n",
       "   'attention_dim': 64,\n",
       "   'attention_num_heads': 1,\n",
       "   'attention_head_dim': 32,\n",
       "   'attention_memory_inference': 50,\n",
       "   'attention_memory_training': 50,\n",
       "   'attention_position_wise_mlp_dim': 32,\n",
       "   'attention_init_gru_gate_bias': 2.0,\n",
       "   'attention_use_n_prev_actions': 0,\n",
       "   'attention_use_n_prev_rewards': 0,\n",
       "   'framestack': True,\n",
       "   'dim': 84,\n",
       "   'grayscale': False,\n",
       "   'zero_mean': True,\n",
       "   'custom_model': None,\n",
       "   'custom_model_config': {},\n",
       "   'custom_action_dist': None,\n",
       "   'custom_preprocessor': None,\n",
       "   'lstm_use_prev_action_reward': -1},\n",
       "  'optimizer': {},\n",
       "  'horizon': 10,\n",
       "  'soft_horizon': False,\n",
       "  'no_done_at_end': False,\n",
       "  'env': 'NetWorkEnv-v0',\n",
       "  'observation_space': None,\n",
       "  'action_space': None,\n",
       "  'env_config': {},\n",
       "  'remote_worker_envs': False,\n",
       "  'remote_env_batch_wait_ms': 0,\n",
       "  'env_task_fn': None,\n",
       "  'render_env': False,\n",
       "  'record_env': False,\n",
       "  'clip_rewards': None,\n",
       "  'normalize_actions': True,\n",
       "  'clip_actions': False,\n",
       "  'preprocessor_pref': 'deepmind',\n",
       "  'log_level': 'WARN',\n",
       "  'callbacks': ray.rllib.agents.callbacks.DefaultCallbacks,\n",
       "  'ignore_worker_failures': False,\n",
       "  'log_sys_usage': True,\n",
       "  'fake_sampler': False,\n",
       "  'framework': 'tf',\n",
       "  'eager_tracing': False,\n",
       "  'eager_max_retraces': 20,\n",
       "  'explore': True,\n",
       "  'exploration_config': {'type': 'StochasticSampling'},\n",
       "  'evaluation_interval': None,\n",
       "  'evaluation_duration': 10,\n",
       "  'evaluation_duration_unit': 'episodes',\n",
       "  'evaluation_parallel_to_training': False,\n",
       "  'in_evaluation': False,\n",
       "  'evaluation_config': {},\n",
       "  'evaluation_num_workers': 0,\n",
       "  'custom_eval_function': None,\n",
       "  'always_attach_evaluation_results': False,\n",
       "  'keep_per_episode_custom_metrics': False,\n",
       "  'sample_async': False,\n",
       "  'sample_collector': ray.rllib.evaluation.collectors.simple_list_collector.SimpleListCollector,\n",
       "  'observation_filter': 'NoFilter',\n",
       "  'synchronize_filters': True,\n",
       "  'tf_session_args': {'intra_op_parallelism_threads': 2,\n",
       "   'inter_op_parallelism_threads': 2,\n",
       "   'gpu_options': {'allow_growth': True},\n",
       "   'log_device_placement': False,\n",
       "   'device_count': {'CPU': 1},\n",
       "   'allow_soft_placement': True},\n",
       "  'local_tf_session_args': {'intra_op_parallelism_threads': 8,\n",
       "   'inter_op_parallelism_threads': 8},\n",
       "  'compress_observations': False,\n",
       "  'metrics_episode_collection_timeout_s': 180,\n",
       "  'metrics_num_episodes_for_smoothing': 100,\n",
       "  'min_time_s_per_reporting': 10,\n",
       "  'min_train_timesteps_per_reporting': None,\n",
       "  'min_sample_timesteps_per_reporting': 0,\n",
       "  'seed': None,\n",
       "  'extra_python_environs_for_driver': {},\n",
       "  'extra_python_environs_for_worker': {},\n",
       "  'num_gpus': 0,\n",
       "  '_fake_gpus': False,\n",
       "  'num_cpus_per_worker': 1,\n",
       "  'num_gpus_per_worker': 0,\n",
       "  'custom_resources_per_worker': {},\n",
       "  'num_cpus_for_driver': 1,\n",
       "  'placement_strategy': 'PACK',\n",
       "  'input': 'sampler',\n",
       "  'input_config': {},\n",
       "  'actions_in_input_normalized': False,\n",
       "  'input_evaluation': ['is', 'wis'],\n",
       "  'postprocess_inputs': False,\n",
       "  'shuffle_buffer_size': 0,\n",
       "  'output': None,\n",
       "  'output_config': {},\n",
       "  'output_compress_columns': ['obs', 'new_obs'],\n",
       "  'output_max_file_size': 67108864,\n",
       "  'multiagent': {'policies': {'default_policy': PolicySpec(policy_class=<class 'ray.rllib.policy.tf_policy_template.A3CTFPolicy'>, observation_space=Box([-inf -inf -inf -inf -inf -inf -inf -inf -inf -inf -inf -inf -inf -inf\n",
       "     -inf -inf -inf -inf -inf -inf -inf -inf -inf -inf -inf -inf -inf -inf\n",
       "     -inf -inf -inf -inf -inf -inf -inf -inf -inf -inf -inf -inf -inf -inf\n",
       "     -inf -inf -inf -inf -inf -inf -inf -inf], [inf inf inf inf inf inf inf inf inf inf inf inf inf inf inf inf inf inf\n",
       "     inf inf inf inf inf inf inf inf inf inf inf inf inf inf inf inf inf inf\n",
       "     inf inf inf inf inf inf inf inf inf inf inf inf inf inf], (50,), float32), action_space=MultiDiscrete([6 6 6 6 6 6 6 6 6 6]), config={})},\n",
       "   'policy_map_capacity': 100,\n",
       "   'policy_map_cache': None,\n",
       "   'policy_mapping_fn': None,\n",
       "   'policies_to_train': None,\n",
       "   'observation_fn': None,\n",
       "   'replay_mode': 'independent',\n",
       "   'count_steps_by': 'env_steps'},\n",
       "  'logger_config': None,\n",
       "  '_tf_policy_handles_more_than_one_loss': False,\n",
       "  '_disable_preprocessor_api': False,\n",
       "  '_disable_action_flattening': False,\n",
       "  '_disable_execution_plan_api': False,\n",
       "  'disable_env_checking': False,\n",
       "  'simple_optimizer': False,\n",
       "  'monitor': -1,\n",
       "  'evaluation_num_episodes': -1,\n",
       "  'metrics_smoothing_episodes': -1,\n",
       "  'timesteps_per_iteration': 0,\n",
       "  'min_iter_time_s': -1,\n",
       "  'collect_metrics_timeout': -1,\n",
       "  'use_critic': True,\n",
       "  'use_gae': True,\n",
       "  'lambda': 1.0,\n",
       "  'grad_clip': 40.0,\n",
       "  'lr_schedule': None,\n",
       "  'vf_loss_coeff': 0.5,\n",
       "  'entropy_coeff': 0.01,\n",
       "  'entropy_coeff_schedule': None,\n",
       "  'microbatch_size': None},\n",
       " 'evaluation_num_workers': 0,\n",
       " 'custom_eval_function': None,\n",
       " 'always_attach_evaluation_results': False,\n",
       " 'keep_per_episode_custom_metrics': False,\n",
       " 'sample_async': False,\n",
       " 'sample_collector': ray.rllib.evaluation.collectors.simple_list_collector.SimpleListCollector,\n",
       " 'observation_filter': 'NoFilter',\n",
       " 'synchronize_filters': True,\n",
       " 'tf_session_args': {'intra_op_parallelism_threads': 2,\n",
       "  'inter_op_parallelism_threads': 2,\n",
       "  'gpu_options': {'allow_growth': True},\n",
       "  'log_device_placement': False,\n",
       "  'device_count': {'CPU': 1},\n",
       "  'allow_soft_placement': True},\n",
       " 'local_tf_session_args': {'intra_op_parallelism_threads': 8,\n",
       "  'inter_op_parallelism_threads': 8},\n",
       " 'compress_observations': False,\n",
       " 'metrics_episode_collection_timeout_s': 180,\n",
       " 'metrics_num_episodes_for_smoothing': 100,\n",
       " 'min_time_s_per_reporting': 10,\n",
       " 'min_train_timesteps_per_reporting': None,\n",
       " 'min_sample_timesteps_per_reporting': 0,\n",
       " 'seed': None,\n",
       " 'extra_python_environs_for_driver': {},\n",
       " 'extra_python_environs_for_worker': {},\n",
       " 'num_gpus': 0,\n",
       " '_fake_gpus': False,\n",
       " 'num_cpus_per_worker': 1,\n",
       " 'num_gpus_per_worker': 0,\n",
       " 'custom_resources_per_worker': {},\n",
       " 'num_cpus_for_driver': 1,\n",
       " 'placement_strategy': 'PACK',\n",
       " 'input': 'sampler',\n",
       " 'input_config': {},\n",
       " 'actions_in_input_normalized': False,\n",
       " 'input_evaluation': ['is', 'wis'],\n",
       " 'postprocess_inputs': False,\n",
       " 'shuffle_buffer_size': 0,\n",
       " 'output': None,\n",
       " 'output_config': {},\n",
       " 'output_compress_columns': ['obs', 'new_obs'],\n",
       " 'output_max_file_size': 67108864,\n",
       " 'multiagent': {'policies': {'default_policy': PolicySpec(policy_class=<class 'ray.rllib.policy.tf_policy_template.A3CTFPolicy'>, observation_space=Box([-inf -inf -inf -inf -inf -inf -inf -inf -inf -inf -inf -inf -inf -inf\n",
       "    -inf -inf -inf -inf -inf -inf -inf -inf -inf -inf -inf -inf -inf -inf\n",
       "    -inf -inf -inf -inf -inf -inf -inf -inf -inf -inf -inf -inf -inf -inf\n",
       "    -inf -inf -inf -inf -inf -inf -inf -inf], [inf inf inf inf inf inf inf inf inf inf inf inf inf inf inf inf inf inf\n",
       "    inf inf inf inf inf inf inf inf inf inf inf inf inf inf inf inf inf inf\n",
       "    inf inf inf inf inf inf inf inf inf inf inf inf inf inf], (50,), float32), action_space=MultiDiscrete([6 6 6 6 6 6 6 6 6 6]), config={})},\n",
       "  'policy_map_capacity': 100,\n",
       "  'policy_map_cache': None,\n",
       "  'policy_mapping_fn': None,\n",
       "  'policies_to_train': None,\n",
       "  'observation_fn': None,\n",
       "  'replay_mode': 'independent',\n",
       "  'count_steps_by': 'env_steps'},\n",
       " 'logger_config': None,\n",
       " '_tf_policy_handles_more_than_one_loss': False,\n",
       " '_disable_preprocessor_api': False,\n",
       " '_disable_action_flattening': False,\n",
       " '_disable_execution_plan_api': False,\n",
       " 'disable_env_checking': False,\n",
       " 'simple_optimizer': False,\n",
       " 'monitor': -1,\n",
       " 'evaluation_num_episodes': -1,\n",
       " 'metrics_smoothing_episodes': -1,\n",
       " 'timesteps_per_iteration': 0,\n",
       " 'min_iter_time_s': -1,\n",
       " 'collect_metrics_timeout': -1,\n",
       " 'use_critic': True,\n",
       " 'use_gae': True,\n",
       " 'lambda': 1.0,\n",
       " 'grad_clip': 40.0,\n",
       " 'lr_schedule': None,\n",
       " 'vf_loss_coeff': 0.5,\n",
       " 'entropy_coeff': 0.01,\n",
       " 'entropy_coeff_schedule': None,\n",
       " 'microbatch_size': None}"
      ]
     },
     "execution_count": 126,
     "metadata": {},
     "output_type": "execute_result"
    }
   ],
   "source": [
    "trainer.config"
   ]
  },
  {
   "cell_type": "code",
   "execution_count": 64,
   "metadata": {},
   "outputs": [
    {
     "name": "stdout",
     "output_type": "stream",
     "text": [
      "-14.272125449685628 -12.473314508501467 -10.795756273637862 10.0\n",
      "-15.682720476301952 -12.061636460646362 -8.820420466495428 10.0\n",
      "-14.459147506763125 -11.598913678523576 -8.73867375977657 10.0\n",
      "-14.79150296471635 -10.732822179755626 -7.853596288326906 10.0\n",
      "-12.789712037101607 -9.62383193818791 -7.514446618461484 10.0\n",
      "-10.875801089981048 -8.565336108658846 -6.425049407471157 10.0\n",
      "-10.584405177594004 -7.8670174800090225 -6.229970751576124 10.0\n",
      "-9.210991863422812 -7.372308658199979 -5.996989930272844 10.0\n",
      "-9.157817125565295 -7.0791979999080255 -5.912042014257346 10.0\n",
      "-8.855589517654648 -6.839502886426518 -5.5169053767585705 10.0\n",
      "-8.152141777616949 -6.713394008606734 -5.503268356276633 10.0\n",
      "-8.078061119778535 -6.51601058082139 -5.47736230345235 10.0\n",
      "-7.64213106904748 -6.365480253272845 -5.406231423191947 10.0\n",
      "-7.638017312736599 -6.310560487155193 -5.3361349972627155 10.0\n",
      "-7.48902340246077 -6.253808471542075 -5.318467105503347 10.0\n",
      "-7.350597214520161 -6.189879466658177 -5.369041268135936 10.0\n",
      "-7.266691042396188 -6.122765944196516 -5.369182899025119 10.0\n",
      "-7.27182042869298 -6.107455935635107 -5.360372028421953 10.0\n",
      "-7.204398905843348 -6.064370533131712 -5.395781793415061 10.0\n",
      "-7.3902918835225755 -6.03767276190152 -5.290277007357185 10.0\n",
      "-7.364220162474917 -6.01631741788707 -5.2699712141167545 10.0\n",
      "-7.342365826968523 -5.98153514175332 -5.328813261121147 10.0\n",
      "-6.933451924501842 -5.968808713051816 -5.319243433245355 10.0\n",
      "-7.314654748266205 -5.966295459960719 -5.273021857887114 10.0\n",
      "-6.8277173480456534 -5.92784015220188 -5.295663310986415 10.0\n",
      "-6.97796199073719 -5.910627516168377 -5.30168533980833 10.0\n",
      "-6.9745525352855156 -5.891747285014604 -5.295802081663335 10.0\n",
      "-6.884719871501702 -5.894854721216399 -5.2738944825104515 10.0\n",
      "-6.6832958059987835 -5.875814892509458 -5.313148077579099 10.0\n",
      "-6.872299909828632 -5.863242463491251 -5.320295700460774 10.0\n",
      "-7.183217205158016 -5.838525353010556 -5.276972341296611 10.0\n",
      "-6.79394937136993 -5.851724930293618 -5.31086086182808 10.0\n",
      "-6.785178019982307 -5.832352858586857 -5.2974515756221905 10.0\n",
      "-6.961229123276395 -5.817507737719665 -5.322450249554239 10.0\n",
      "-6.762725526915439 -5.8317447399982 -5.295173522279594 10.0\n",
      "-6.761556481802913 -5.815674392887264 -5.293406050903438 10.0\n",
      "-6.822392580982171 -5.821020790494443 -5.32192109470477 10.0\n",
      "-6.621095916568059 -5.812165375118602 -5.2986558336424725 10.0\n",
      "-6.720058753026246 -5.8210490611883925 -5.28842693518663 10.0\n",
      "-6.554500376754877 -5.813181927202989 -5.299898571429027 10.0\n",
      "-6.693177171150518 -5.7969762110007235 -5.294070823876583 10.0\n",
      "-6.709713670102239 -5.791043790462597 -5.276503064644725 10.0\n",
      "-6.684988174162328 -5.807612648982129 -5.301361937051242 10.0\n",
      "-6.671547654090645 -5.7832892679708285 -5.255070857412905 10.0\n",
      "-6.5084840464004605 -5.7578588722863095 -5.303081455578758 10.0\n",
      "-6.645645136805202 -5.749799613697494 -5.231830515869723 10.0\n",
      "-6.613737230333187 -5.7306139483230485 -5.224699418685935 10.0\n",
      "-6.475299993988694 -5.759448085424269 -5.243325923734519 10.0\n",
      "-6.570286053068784 -5.747827039795241 -5.2714634454704825 10.0\n",
      "-6.645504383265379 -5.743373277977505 -5.29450306874093 10.0\n",
      "-6.548337601452161 -5.752472212290754 -5.262967185927018 10.0\n",
      "-6.534617084864261 -5.738000699441651 -5.232278229311362 10.0\n",
      "-6.513241228799724 -5.744355140212623 -5.2669992432919255 10.0\n",
      "-6.610314744830104 -5.757792522958731 -5.291358498166678 10.0\n",
      "-6.551003819448243 -5.747789187375986 -5.294076102239531 10.0\n",
      "-6.503998420258318 -5.751964457860002 -5.31625385302528 10.0\n",
      "-6.462432571985337 -5.740189048491458 -5.3255561404198 10.0\n",
      "-6.496512892928843 -5.746864854084423 -5.312735883980438 10.0\n",
      "-6.419920223545651 -5.733030208882843 -5.301994721146541 10.0\n",
      "-6.524950123173555 -5.715475725950016 -5.30292522108886 10.0\n",
      "-6.462605358669503 -5.708809242847162 -5.278199735310235 10.0\n",
      "-6.456741668110269 -5.704438236405453 -5.213615489340519 10.0\n",
      "-6.329070917210043 -5.706123353656049 -5.255889674332973 10.0\n",
      "-6.472374717885556 -5.701572855105092 -5.261286293692502 10.0\n",
      "-6.408531046378188 -5.7112794779524805 -5.263611898525459 10.0\n",
      "-6.508976110080923 -5.736407019194925 -5.219037423518069 10.0\n",
      "-6.813317725438091 -5.77808039563261 -5.3023980885688715 10.0\n",
      "-6.6270713033893625 -5.780541216411895 -5.290294472186379 10.0\n",
      "-6.667549675948899 -5.790327532724452 -5.299883462264946 10.0\n",
      "-6.640419738286354 -5.819595347280471 -5.274939654809475 10.0\n",
      "-6.754487452099381 -5.811382150779077 -5.263512529383735 10.0\n",
      "-6.678974957341632 -5.807660136924193 -5.274445536992394 10.0\n",
      "-6.5582285265652525 -5.778221611514151 -5.2897996771940115 10.0\n",
      "-6.706648136607708 -5.769796505623283 -5.269369995175691 10.0\n",
      "-6.6938286511474105 -5.794081230149814 -5.289235879958694 10.0\n",
      "-6.834520517122927 -5.810717737446555 -5.2227738480133254 10.0\n",
      "-6.750874618167558 -5.812274102123778 -5.310481373253358 10.0\n",
      "-6.632927560135073 -5.819280449631573 -5.221133174828361 10.0\n",
      "-6.586489278742418 -5.79985526958792 -5.209841731489868 10.0\n",
      "-6.9325811626802665 -5.814941933703894 -5.268437617369344 10.0\n",
      "-6.635686720893252 -5.803939534265319 -5.291008399215907 10.0\n",
      "-6.464272412980399 -5.778331378440343 -5.283978580470425 10.0\n",
      "-6.5851140078399055 -5.777062711951846 -5.310693569446249 10.0\n",
      "-6.701473570108677 -5.8040265925141865 -5.303655258244984 10.0\n",
      "-6.723344294559458 -5.791682665291902 -5.260080448188249 10.0\n",
      "-6.911072279116754 -5.804672383588966 -5.2070642406740735 10.0\n",
      "-6.7055100504178915 -5.780831914846128 -5.23244571676343 10.0\n",
      "-6.661285872913986 -5.819507392591222 -5.29103321303124 10.0\n",
      "-7.051389666019066 -5.859672187105872 -5.310329797941319 10.0\n",
      "-6.6239050219997395 -5.833198002983322 -5.273856741931706 10.0\n",
      "-6.764712121987795 -5.880569715003152 -5.330651740923392 10.0\n",
      "-6.954218808203142 -5.8707150364366765 -5.289689114616666 10.0\n",
      "-6.674977813937136 -5.831360338227785 -5.283235583076091 10.0\n",
      "-7.176636812088992 -5.8442415457145955 -5.312727214350876 10.0\n",
      "-6.8378336491170275 -5.870967673384011 -5.325910893138296 10.0\n",
      "-6.719596954142675 -5.851093423928989 -5.266478749432837 10.0\n",
      "-6.544915258255264 -5.822020027126824 -5.31992690424123 10.0\n",
      "-6.945675723671383 -5.7953222569484355 -5.270257329478172 10.0\n",
      "-6.511484080448646 -5.789457657171614 -5.217347975766892 10.0\n",
      "-6.761023846113753 -5.790773014844741 -5.293215642678929 10.0\n",
      "-6.536105750065201 -5.793909846115319 -5.270976821929863 10.0\n",
      "-6.534517878108126 -5.772126183355187 -5.185803968634909 10.0\n",
      "-6.548966903422134 -5.775139812051819 -5.298714316993565 10.0\n",
      "-6.624324652617542 -5.806978801813595 -5.183763715664629 10.0\n",
      "-7.071813297782234 -5.839666353681254 -5.28144536979147 10.0\n",
      "-6.930966866875429 -5.834185425172688 -5.379226308046001 10.0\n",
      "-6.61155877378153 -5.8514169964016425 -5.301962221678273 10.0\n",
      "-6.630857105369146 -5.855448231461135 -5.274705568012228 10.0\n",
      "-6.58343491738629 -5.814716870867295 -5.329321304788079 10.0\n",
      "-6.59219508125858 -5.7791462777960945 -5.340199245840625 10.0\n",
      "-6.727859725854499 -5.770799860963197 -5.261672893028891 10.0\n",
      "-6.625340434561732 -5.785061415186661 -5.285098239386271 10.0\n",
      "-6.655657251355204 -5.767468230258279 -5.306855248984867 10.0\n",
      "-6.639528711812273 -5.76632401767237 -5.251611438544179 10.0\n",
      "-6.751726352274738 -5.753123625461432 -5.254603148894445 10.0\n",
      "-6.583186852614383 -5.764847537527767 -5.248338871608871 10.0\n",
      "-6.596931101528571 -5.767560289877943 -5.2304860488230975 10.0\n",
      "-6.6327193726963465 -5.768282814457892 -5.213370960927357 10.0\n",
      "-6.552984067154437 -5.755791859834206 -5.21239909529359 10.0\n",
      "-6.6481121964163155 -5.801479804051062 -5.202414356544992 10.0\n",
      "-6.638511858176599 -5.855966778752631 -5.262093868806934 10.0\n",
      "-6.740319350904362 -5.823704749484867 -5.28286034869725 10.0\n",
      "-6.737775547894756 -5.809696616796569 -5.195261362397927 10.0\n",
      "-6.88783051475942 -5.8415652800976945 -5.291326834072222 10.0\n",
      "-6.691680492049136 -5.830165412785921 -5.268933878203957 10.0\n",
      "-6.621195180835461 -5.803913862645593 -5.248506012174018 10.0\n",
      "-6.599164180886831 -5.802420436869537 -5.283964589649311 10.0\n",
      "-6.516855177788855 -5.796337089160646 -5.267700763438677 10.0\n",
      "-6.443712995049015 -5.780077812714186 -5.333350873884854 10.0\n",
      "-6.519221698941463 -5.748517435626941 -5.308854463773734 10.0\n",
      "-6.432246622458699 -5.7495730705447645 -5.188958796574827 10.0\n",
      "-6.57489270152062 -5.759392620715049 -5.248107806346474 10.0\n",
      "-6.428568393239268 -5.761121736932805 -5.25616296410476 10.0\n",
      "-6.509967590428959 -5.755098374897578 -5.280388765144099 10.0\n",
      "-6.515027231650012 -5.75921749414879 -5.267226456052693 10.0\n",
      "-6.627572469997254 -5.774631212065636 -5.302894295590733 10.0\n",
      "-6.523548901040373 -5.7745529313594615 -5.226458293993987 10.0\n",
      "-6.560024134229549 -5.804321062619883 -5.293577020380912 10.0\n",
      "-6.656292922711857 -5.790485983299371 -5.323306078667995 10.0\n",
      "-6.767847616483314 -5.782125764878144 -5.216055060512937 10.0\n",
      "-6.517317858784976 -5.770724316744014 -5.319055536148252 10.0\n",
      "-6.474463098356313 -5.77430417584885 -5.208355860529942 10.0\n",
      "-6.627827708471448 -5.7609696872806655 -5.31046265556526 10.0\n",
      "-6.687010851492915 -5.778343139289076 -5.30055056510078 10.0\n",
      "-6.614927485447398 -5.789195547018541 -5.190429785860123 10.0\n",
      "-6.597755055479679 -5.7989140082790795 -5.317994506083404 10.0\n",
      "-6.66531728924325 -5.812767954281694 -5.269089010046774 10.0\n",
      "-6.529100605263095 -5.786417421015857 -5.267006339056291 10.0\n",
      "-6.5020105686218725 -5.769944085968552 -5.280219653565862 10.0\n",
      "-6.588745291316903 -5.757575642785817 -5.291140422818527 10.0\n",
      "-6.509259587120461 -5.761664359500772 -5.247152217145413 10.0\n",
      "-6.659042167111257 -5.743994316056241 -5.224255045355077 10.0\n",
      "-6.59880997261685 -5.749309139150496 -5.2622028974367545 10.0\n",
      "-6.413368292690114 -5.756464401066448 -5.302173455054805 10.0\n",
      "-6.569271820621726 -5.763178571988843 -5.263167281104592 10.0\n",
      "-6.43293660715027 -5.7540656097106195 -5.308553460932532 10.0\n",
      "-6.668786634199127 -5.7504949718351455 -5.226341680056953 10.0\n",
      "-6.515570244566483 -5.768085791050265 -5.289300701835137 10.0\n",
      "-6.554582569068122 -5.775520548341312 -5.272262238357151 10.0\n",
      "-6.496924769465021 -5.780005550286674 -5.289917730912825 10.0\n",
      "-6.703975418600959 -5.800273265075583 -5.286281195394871 10.0\n",
      "-6.6691064807564455 -5.81674788658027 -5.289139735485878 10.0\n",
      "-6.612818287684387 -5.799977606201006 -5.340186871798194 10.0\n",
      "-6.544742059125278 -5.792200217051458 -5.287794940215911 10.0\n",
      "-6.755410333104848 -5.7824045704332265 -5.284585726899256 10.0\n",
      "-6.593471852233194 -5.779722816993873 -5.244291827818403 10.0\n",
      "-6.677976911188553 -5.791662425044293 -5.249624507803764 10.0\n",
      "-6.772047993479713 -5.78084753547028 -5.312787936757749 10.0\n",
      "-6.474661598433782 -5.750108653492652 -5.219321575877524 10.0\n",
      "-6.801613972117325 -5.7550067148182675 -5.294854092952851 10.0\n",
      "-6.725596453248567 -5.776428479767058 -5.272228243402056 10.0\n",
      "-6.515477714376141 -5.783129423669247 -5.241085506927373 10.0\n",
      "-6.624180207911783 -5.786820443450838 -5.318538786695604 10.0\n",
      "-6.609467754056926 -5.807867824427824 -5.30882149384965 10.0\n",
      "-6.678576254712514 -5.844457683559669 -5.323014706768755 10.0\n",
      "-6.738480431148525 -5.8288906280278265 -5.275802687132972 10.0\n",
      "-6.6254181155878005 -5.817587504680892 -5.313985904451989 10.0\n",
      "-6.733145395650089 -5.847935408841962 -5.274173421396873 10.0\n",
      "-6.954515942467222 -5.836334652227024 -5.349045654871472 10.0\n",
      "-6.619841834879112 -5.813865018078145 -5.283201171789839 10.0\n",
      "-6.798288399783054 -5.801271072302604 -5.332204196525878 10.0\n",
      "-6.613002110454467 -5.798674766260663 -5.302913688307159 10.0\n",
      "-6.551936889546501 -5.7784427405489565 -5.2868799022809565 10.0\n",
      "-6.448630184052385 -5.765314628395636 -5.249645338194113 10.0\n",
      "-6.87695720261071 -5.775573308647697 -5.269890122801324 10.0\n",
      "-6.673996170443971 -5.775180654930993 -5.3084642181057315 10.0\n",
      "-6.430071539270525 -5.771406651707433 -5.315671354362227 10.0\n",
      "-6.676980495176456 -5.787689224763195 -5.303387561957915 10.0\n",
      "-6.691903180883061 -5.785171162485925 -5.28735325897857 10.0\n",
      "-6.567528503523348 -5.782297096938405 -5.310657129021105 10.0\n",
      "-6.545099874845827 -5.774862337527481 -5.255350044876605 10.0\n",
      "-6.503324872564398 -5.748001274411303 -5.323534346172019 10.0\n",
      "-6.630019690072344 -5.754356977658754 -5.290942985635948 10.0\n",
      "-6.631296791863011 -5.750319036043941 -5.289780904463349 10.0\n",
      "-6.4661567960235296 -5.772211061428537 -5.2355400854266225 10.0\n",
      "-6.4391939498044595 -5.768330936250137 -5.269501795519712 10.0\n",
      "-6.618288091045788 -5.7896167646840695 -5.228302208896263 10.0\n",
      "-6.5832179668953765 -5.795219177191187 -5.283937974439464 10.0\n",
      "-6.4886405377996565 -5.768011015199975 -5.270287273279655 10.0\n",
      "-6.434384056350218 -5.765197662408266 -5.286494135181145 10.0\n",
      "-6.540142506373431 -5.761369136928245 -5.199695639314625 10.0\n",
      "-6.595787397652914 -5.774271187493785 -5.335149159953918 10.0\n",
      "-6.6870006364945995 -5.785075491354074 -5.290349088088655 10.0\n",
      "-6.469233775366118 -5.79086438781327 -5.258531207404417 10.0\n",
      "-6.752719607455681 -5.804561883280415 -5.253134841512814 10.0\n",
      "-6.554044762187248 -5.794156279787565 -5.193793346601937 10.0\n",
      "-6.563218957223447 -5.818355929248086 -5.282374852392401 10.0\n",
      "-6.714678001230226 -5.796185059790411 -5.279299308595492 10.0\n",
      "-6.6666202544817414 -5.807074052954434 -5.227250707456408 10.0\n",
      "-6.5714411393433245 -5.785270678143604 -5.28385608091988 10.0\n",
      "-6.819078530774503 -5.795115590742034 -5.2773046328910596 10.0\n",
      "-6.6596904032532755 -5.808772510963884 -5.333935076963148 10.0\n",
      "-6.730498471958649 -5.802416918747144 -5.318277972908457 10.0\n",
      "-6.549537334661133 -5.795048839976467 -5.31955790650487 10.0\n",
      "-6.634431835655839 -5.8026938297570245 -5.276311024652027 10.0\n",
      "-6.578377387319731 -5.799345457289907 -5.291197712748062 10.0\n",
      "-6.784347268221598 -5.772688439747106 -5.314018296738223 10.0\n",
      "-6.486287384113492 -5.769807769406937 -5.312318786201834 10.0\n",
      "-6.52296037768312 -5.78083458492817 -5.257410930731757 10.0\n",
      "-6.807700866567321 -5.795054777625013 -5.3166338909325646 10.0\n",
      "-6.565495268156737 -5.81400517786619 -5.240210747692825 10.0\n",
      "-6.686850677884118 -5.832065022504962 -5.290126252001757 10.0\n",
      "-6.628718267944114 -5.8033170894796475 -5.287238287668747 10.0\n",
      "-6.806723493563366 -5.826583349150996 -5.276898091990652 10.0\n",
      "-6.733898931277118 -5.840971834356938 -5.295318426398793 10.0\n",
      "-6.834932246127621 -5.848423625400682 -5.284573493519995 10.0\n",
      "-6.714143505558978 -5.828146149764267 -5.343417854322392 10.0\n",
      "-6.777829551492348 -5.8013706942034915 -5.266471761412936 10.0\n",
      "-6.865225404371162 -5.797281777427307 -5.265234457450573 10.0\n",
      "-6.746999048719518 -5.788387877650819 -5.313055352318776 10.0\n",
      "-6.497067668016292 -5.7837357590953085 -5.287441962331406 10.0\n",
      "-6.62762679398586 -5.77518005150982 -5.266669408212446 10.0\n",
      "-6.46863539541089 -5.762627221138684 -5.294243953323264 10.0\n",
      "-6.446003563526282 -5.774211702270082 -5.297636623054536 10.0\n",
      "-6.616166550905387 -5.750108400349805 -5.2780754126771035 10.0\n",
      "-6.537901032192311 -5.7552265930647994 -5.243392371023051 10.0\n",
      "-6.4337451222694195 -5.762851464273376 -5.253941530927436 10.0\n",
      "-6.50754586625035 -5.768188044559949 -5.260005553593527 10.0\n",
      "-6.612457946671972 -5.7512721785381204 -5.272628825803813 10.0\n",
      "-6.462580319703832 -5.753447667659738 -5.192202483025167 10.0\n",
      "-6.5484260127082194 -5.751998453355678 -5.262544711476229 10.0\n",
      "-6.577833875529157 -5.744416493997733 -5.2212573904333555 10.0\n",
      "-6.523162427028365 -5.757080960579132 -5.32941949278907 10.0\n",
      "-6.531180724385542 -5.772193279444324 -5.314550378893819 10.0\n",
      "-6.525629336259206 -5.77480840162894 -5.268786730702706 10.0\n",
      "-6.4659744521834455 -5.787943166474458 -5.255908190328757 10.0\n",
      "-6.711605114100415 -5.8245672325661655 -5.29159145751977 10.0\n",
      "-6.778429017720294 -5.84200260425197 -5.272459040667919 10.0\n",
      "-6.618423910252882 -5.848955124532169 -5.312340234131614 10.0\n",
      "-6.866960958835222 -5.835271811098153 -5.362104590318318 10.0\n",
      "-6.655982280909546 -5.821735292990451 -5.311121118870607 10.0\n",
      "-6.819637393926228 -5.792721194804842 -5.281806917463714 10.0\n",
      "-6.474567343119499 -5.7770440355105634 -5.318947121223999 10.0\n",
      "-6.485943500492539 -5.765845821541168 -5.248414878863224 10.0\n",
      "-6.515029078061234 -5.763854488846394 -5.304535356450179 10.0\n",
      "-6.426024482391126 -5.7562004695368625 -5.288574475299724 10.0\n",
      "-6.609832798294707 -5.740630126574396 -5.295017126979016 10.0\n",
      "-6.520632606276693 -5.757873231690168 -5.275976220886088 10.0\n",
      "-6.3742709089052365 -5.745274900182037 -5.295846391731194 10.0\n",
      "-6.510979132709815 -5.742047265782209 -5.270923489289846 10.0\n",
      "-6.572393383024216 -5.740610690425992 -5.2935242942176135 10.0\n",
      "-6.517001595370789 -5.745104938676068 -5.185086551790356 10.0\n",
      "-7.103130212307151 -5.755715644200615 -5.27930033775175 10.0\n",
      "-6.465571708169042 -5.7628596412080935 -5.248028976034968 10.0\n",
      "-6.555507032700912 -5.777973223968265 -5.315278154427124 10.0\n",
      "-6.5732775019878105 -5.792252062145676 -5.282166290800877 10.0\n",
      "-6.537005378934078 -5.816516522066437 -5.226392959576344 10.0\n",
      "-6.721459440593259 -5.790994255106756 -5.277928183541457 10.0\n",
      "-6.60058659230627 -5.788078835449975 -5.303579824796388 10.0\n",
      "-6.545674584852204 -5.781937226519766 -5.2932901835209565 10.0\n",
      "-6.557758705304681 -5.777749207640041 -5.309340009371026 10.0\n",
      "-6.713455378915269 -5.780569173337685 -5.276260709954093 10.0\n",
      "-6.577286987097349 -5.793737631425867 -5.212011104165055 10.0\n",
      "-6.448766515187647 -5.786144979249303 -5.284232595207717 10.0\n",
      "-6.65807152523535 -5.796941274782836 -5.272491041092931 10.0\n",
      "-6.534167658123625 -5.804276556871887 -5.231202826613765 10.0\n",
      "-6.60495369877875 -5.81640520346215 -5.291865717169778 10.0\n",
      "-6.848054698357456 -5.819213580274474 -5.265402773070884 10.0\n",
      "-6.839404915808812 -5.812396991327549 -5.33267592982755 10.0\n",
      "-6.550156995781472 -5.814839700587084 -5.323943103105875 10.0\n",
      "-6.561507679960661 -5.784894251739272 -5.2504291086406285 10.0\n",
      "-6.579626369140607 -5.774690823932619 -5.274496358499957 10.0\n",
      "-6.5027130099305115 -5.775628747655576 -5.284049328932152 10.0\n",
      "-6.554401312617619 -5.756658385886785 -5.2497203766999725 10.0\n",
      "-6.481047930268638 -5.73417119654336 -5.2886159050409445 10.0\n",
      "-6.566174458834787 -5.727525888824304 -5.233787807131537 10.0\n",
      "-6.540629733025928 -5.742346316099438 -5.322942425346958 10.0\n",
      "-6.562599013704762 -5.736989926591496 -5.228436248733382 10.0\n",
      "-6.421790647511307 -5.729856150685522 -5.258284510489031 10.0\n",
      "-6.359079515423797 -5.73337822773398 -5.219557363924543 10.0\n",
      "-6.561069600850934 -5.74498404572909 -5.323714404893291 10.0\n",
      "-6.404901388797985 -5.747979008569085 -5.264544616223794 10.0\n",
      "-6.414330252323696 -5.753397823293037 -5.227163090259497 10.0\n",
      "-6.363120325899912 -5.764078330285616 -5.257580392257347 10.0\n",
      "-6.469005459956524 -5.767390683657453 -5.318178649228482 10.0\n",
      "-6.496509653218804 -5.766567864601211 -5.284482368454429 10.0\n",
      "-6.5617082021165665 -5.754448594583867 -5.276339895422716 10.0\n",
      "-6.430659228640147 -5.750268627068282 -5.29291898745615 10.0\n",
      "-6.735893537909118 -5.753648059564007 -5.176752434468531 10.0\n",
      "-6.542699901509268 -5.733904385330269 -5.214711808640218 10.0\n",
      "-6.466571233515521 -5.744024052030847 -5.2961295262459664 10.0\n",
      "-6.513772381480227 -5.746903500834878 -5.29196362337176 10.0\n",
      "-6.542702405988445 -5.752413675876619 -5.3004534888215975 10.0\n",
      "-6.590752716322681 -5.766140395329425 -5.249529965899349 10.0\n",
      "-6.44418800057664 -5.758596560753212 -5.3098697122947796 10.0\n",
      "-6.4551853298861595 -5.769415813911096 -5.281926970787274 10.0\n",
      "-6.4317712309634665 -5.7770884839103696 -5.322952642778654 10.0\n",
      "-6.675131763948858 -5.770670787367603 -5.265546831085872 10.0\n",
      "-6.4400148125374175 -5.742113720931178 -5.297821725633605 10.0\n",
      "-6.733137740977364 -5.757730823431122 -5.266803116386448 10.0\n",
      "-6.425933487827882 -5.752887129029657 -5.2427941229840105 10.0\n",
      "-6.362861004811195 -5.743918413541338 -5.288335425335453 10.0\n",
      "-6.409649246341747 -5.740911222394212 -5.3057751261639385 10.0\n",
      "-6.571205814793461 -5.7326648751843585 -5.333174126043713 10.0\n",
      "-6.491399799471612 -5.710464805856349 -5.268128635366466 10.0\n",
      "-6.29712193320066 -5.704814264975631 -5.268100911370455 10.0\n",
      "-6.510995098925502 -5.71128875113273 -5.203440963489549 10.0\n",
      "-6.622639762810593 -5.724008580565128 -5.246698564177635 10.0\n",
      "-6.456164044639425 -5.736201282664486 -5.264704124835194 10.0\n",
      "-6.501247229974396 -5.741051418038472 -5.271070650524824 10.0\n",
      "-6.486211926569955 -5.750085532213894 -5.284166279833451 10.0\n",
      "-6.659358458838955 -5.766511554004358 -5.246637562623869 10.0\n",
      "-6.522843727948154 -5.75309913182949 -5.308989827939878 10.0\n",
      "-6.359982196129869 -5.74170791834333 -5.290846751937717 10.0\n",
      "-6.441292707111572 -5.746482213899213 -5.280518676859303 10.0\n",
      "-6.62523191030526 -5.755025579408317 -5.245116104197055 10.0\n",
      "-6.476437010508324 -5.773297812702524 -5.259810605059223 10.0\n",
      "-6.63414778361681 -5.784859305908936 -5.262551484842877 10.0\n",
      "-6.547831488476179 -5.789151492074618 -5.3321860349521435 10.0\n",
      "-6.711157272404778 -5.805590874513421 -5.287453286951657 10.0\n",
      "-6.790018643075656 -5.846930105930688 -5.297143553434951 10.0\n",
      "-6.559834796622932 -5.823949840877346 -5.278669817921891 10.0\n",
      "-6.531093078566334 -5.8117552301295285 -5.343232380091918 10.0\n",
      "-6.846233031894183 -5.807648185152679 -5.323423169004387 10.0\n",
      "-6.551142347329825 -5.799272302540191 -5.311461689108865 10.0\n",
      "-6.473112309423916 -5.773454171013227 -5.30182019436771 10.0\n",
      "-6.525136096311899 -5.780678696465496 -5.342209096981077 10.0\n",
      "-6.495207315823464 -5.767781417861781 -5.244064087893885 10.0\n",
      "-6.847467478858542 -5.778191004028278 -5.279576360029917 10.0\n",
      "-6.6353432313363365 -5.7603484916253835 -5.275178760757868 10.0\n",
      "-6.55147402834605 -5.744215581665885 -5.328827802788911 10.0\n",
      "-6.570875734215804 -5.760737834204321 -5.251555657240859 10.0\n",
      "-6.562460442393892 -5.777738008685219 -5.215500430629594 10.0\n",
      "-6.458306136933394 -5.754597402002704 -5.288668603193095 10.0\n",
      "-6.412352941224104 -5.736571474293508 -5.259296065437734 10.0\n",
      "-6.448940311659376 -5.728410205177412 -5.3098245056124505 10.0\n",
      "-6.531190067522354 -5.746554894218674 -5.250004530002407 10.0\n",
      "-6.438490985461353 -5.7448421795874625 -5.254587459465094 10.0\n",
      "-6.582829076344364 -5.762670176222259 -5.25829538438785 10.0\n",
      "-6.4926036885313785 -5.742804733068346 -5.283317662699735 10.0\n",
      "-6.5320053452687645 -5.742065714063641 -5.284149449606433 10.0\n",
      "-6.44744996549279 -5.742388121423759 -5.241342726153259 10.0\n",
      "-6.5238748666802895 -5.7608488086243215 -5.292837126118384 10.0\n",
      "-6.469951015655843 -5.762269321027048 -5.231403515687448 10.0\n",
      "-6.656781165981623 -5.742309904093203 -5.22241619101652 10.0\n",
      "-6.37873182916456 -5.741331152880203 -5.237003176569602 10.0\n",
      "-6.676977777306614 -5.745334262884596 -5.274173752759067 10.0\n",
      "-6.4570240402874575 -5.7456867994579826 -5.329345514334565 10.0\n",
      "-6.436187511344111 -5.762043558616475 -5.286715447367134 10.0\n",
      "-6.566511681486109 -5.761939059688023 -5.331087666710512 10.0\n",
      "-6.649835129328684 -5.765608489114653 -5.2771948134299755 10.0\n",
      "-6.372914195632424 -5.76723973867027 -5.265044268096408 10.0\n",
      "-6.448422762327814 -5.763834941784722 -5.241662785203259 10.0\n",
      "-6.610453729111412 -5.737892805951817 -5.308424866518006 10.0\n",
      "-6.357166877776962 -5.731288769272567 -5.327984942398913 10.0\n",
      "-6.327350355101954 -5.724525730364077 -5.271975766450947 10.0\n",
      "-6.568947175895926 -5.723070152314174 -5.315254914718292 10.0\n",
      "-6.478720674442641 -5.725601613651302 -5.27168235684534 10.0\n",
      "-6.442999516583917 -5.750812518404488 -5.283673262393465 10.0\n",
      "-6.436628190536635 -5.741169464612739 -5.277469685339623 10.0\n",
      "-6.531671262620229 -5.745558461385157 -5.26860106099572 10.0\n",
      "-6.379229766556758 -5.743631633150484 -5.25821311695409 10.0\n",
      "-6.421120351094062 -5.748956918304916 -5.295078495430088 10.0\n",
      "-6.455493857394426 -5.767143326117381 -5.309856535126169 10.0\n",
      "-6.781609668073332 -5.775765952543402 -5.316651480197882 10.0\n",
      "-6.524148170096992 -5.756242367417445 -5.294342015924696 10.0\n",
      "-6.48385914068453 -5.793798085303734 -5.291941363700622 10.0\n",
      "-6.656843456145266 -5.773094534244997 -5.332927431372123 10.0\n",
      "-6.485477882656572 -5.760632219482129 -5.279325661469092 10.0\n",
      "-6.449519978924535 -5.743842655325771 -5.289132235583397 10.0\n",
      "-6.840716450663951 -5.748260838010421 -5.262686734959514 10.0\n",
      "-6.597518690959138 -5.754906370632587 -5.289718502417154 10.0\n",
      "-6.451680848121802 -5.735568705489924 -5.275213403576974 10.0\n",
      "-6.469282162501995 -5.734274999963304 -5.277513456669177 10.0\n",
      "-6.55177065329409 -5.7521851611452925 -5.292208662036387 10.0\n",
      "-6.46734222431027 -5.739090427816137 -5.312370819411722 10.0\n",
      "-6.446583591454397 -5.739735734160022 -5.262942685736704 10.0\n",
      "-6.448306774572197 -5.723825788357172 -5.263890762997382 10.0\n",
      "-6.385906367682267 -5.722960890862291 -5.273789591805938 10.0\n",
      "-6.453454559852438 -5.729917826844787 -5.210748208121054 10.0\n",
      "-6.451909153454916 -5.732658261761931 -5.240054366232376 10.0\n",
      "-6.655661581277656 -5.737591332714718 -5.287981106924064 10.0\n",
      "-6.717051896113169 -5.748108962983278 -5.178104282913313 10.0\n",
      "-6.333232310655232 -5.7247527178126445 -5.272440889066038 10.0\n",
      "-6.504924541836316 -5.74142105438548 -5.272645171425998 10.0\n",
      "-6.408725877096716 -5.746602008981141 -5.283680877836109 10.0\n",
      "-6.5843841406113714 -5.751101967713035 -5.266986315834154 10.0\n",
      "-6.460162947888966 -5.750632923468925 -5.245037653475336 10.0\n",
      "-6.507314444725688 -5.767741071780128 -5.254462508616221 10.0\n",
      "-6.654072585845751 -5.7649199776473266 -5.3138171149830145 10.0\n",
      "-6.535447011959222 -5.777342709045362 -5.306849192701814 10.0\n",
      "-6.694670748196985 -5.761430981819135 -5.340200462402454 10.0\n",
      "-6.730575954834572 -5.77556968937917 -5.346681135791187 10.0\n",
      "-6.598594687610998 -5.772627239430402 -5.333550009157207 10.0\n",
      "-6.511750869475693 -5.755164594059392 -5.252053371183125 10.0\n",
      "-6.563938953794701 -5.768914001090892 -5.327659869967269 10.0\n",
      "-6.619273154519368 -5.760817593766379 -5.243437163584022 10.0\n",
      "-6.576613899794397 -5.762514671432872 -5.291998231484661 10.0\n",
      "-6.48922595669447 -5.764643880705426 -5.263074712938639 10.0\n",
      "-6.509392513983844 -5.791830420346373 -5.300863425587879 10.0\n",
      "-6.579380064091668 -5.77959123396677 -5.224242496324473 10.0\n"
     ]
    },
    {
     "ename": "Error",
     "evalue": "Canceled future for execute_request message before replies were done",
     "output_type": "error",
     "traceback": [
      "Error: Canceled future for execute_request message before replies were done",
      "at t.KernelShellFutureHandler.dispose (/home/carlosmarques/.vscode/extensions/ms-toolsai.jupyter-2022.3.1000901801/out/extension.js:2:1204175)",
      "at /home/carlosmarques/.vscode/extensions/ms-toolsai.jupyter-2022.3.1000901801/out/extension.js:2:1223227",
      "at Map.forEach (<anonymous>)",
      "at v._clearKernelState (/home/carlosmarques/.vscode/extensions/ms-toolsai.jupyter-2022.3.1000901801/out/extension.js:2:1223212)",
      "at v.dispose (/home/carlosmarques/.vscode/extensions/ms-toolsai.jupyter-2022.3.1000901801/out/extension.js:2:1216694)",
      "at /home/carlosmarques/.vscode/extensions/ms-toolsai.jupyter-2022.3.1000901801/out/extension.js:2:533674",
      "at t.swallowExceptions (/home/carlosmarques/.vscode/extensions/ms-toolsai.jupyter-2022.3.1000901801/out/extension.js:2:913059)",
      "at dispose (/home/carlosmarques/.vscode/extensions/ms-toolsai.jupyter-2022.3.1000901801/out/extension.js:2:533652)",
      "at t.RawSession.dispose (/home/carlosmarques/.vscode/extensions/ms-toolsai.jupyter-2022.3.1000901801/out/extension.js:2:537330)",
      "at runMicrotasks (<anonymous>)",
      "at processTicksAndRejections (node:internal/process/task_queues:96:5)"
     ]
    }
   ],
   "source": [
    "total_reward = 0\n",
    "episode_reward_mean = total_reward - 1\n",
    "while episode_reward_mean < total_reward:\n",
    "    result = trainer.train()\n",
    "    chkpt_file = trainer.save(\"results/ppo_checkpoint\")\n",
    "    print(\n",
    "        result[\"episode_reward_min\"],\n",
    "        result[\"episode_reward_mean\"],\n",
    "        result[\"episode_reward_max\"],\n",
    "        result[\"episode_len_mean\"],\n",
    "    )\n",
    "    episode_reward_mean = result[\"episode_reward_mean\"]"
   ]
  },
  {
   "cell_type": "code",
   "execution_count": 36,
   "metadata": {},
   "outputs": [],
   "source": [
    "trainer.load_checkpoint(\"results/a2c_checkpoint_5_10_0_1/checkpoint_000027/checkpoint-27\")"
   ]
  },
  {
   "cell_type": "code",
   "execution_count": 37,
   "metadata": {},
   "outputs": [
    {
     "name": "stdout",
     "output_type": "stream",
     "text": [
      "Episode 0 reward: -3.6751072168350216, max cost 4.013500332832336\n",
      "Episode 1 reward: -3.847290761768818, max cost 4.142842262983322\n",
      "Episode 2 reward: -3.285108737647533, max cost 3.5552269518375397\n",
      "Episode 3 reward: -3.428528280556202, max cost 3.663953870534897\n",
      "Episode 4 reward: -3.7115765780210492, max cost 4.02901166677475\n",
      "Episode 5 reward: -3.4927129328250883, max cost 3.758208394050598\n",
      "Episode 6 reward: -3.2306068912148476, max cost 3.464406579732895\n",
      "Episode 7 reward: -3.5149456784129143, max cost 3.766724020242691\n",
      "Episode 8 reward: -3.4192221283912656, max cost 3.7136101722717285\n",
      "Episode 9 reward: -3.8196607917547225, max cost 4.120284140110016\n",
      "Episode 10 reward: -3.166030271351337, max cost 3.4017935693264008\n",
      "Episode 11 reward: -3.628579488396645, max cost 3.9068546891212463\n",
      "Episode 12 reward: -3.7210849508643147, max cost 4.032533675432205\n",
      "Episode 13 reward: -3.6488939657807355, max cost 3.9470156133174896\n",
      "Episode 14 reward: -3.7385819479823112, max cost 4.06936314702034\n",
      "Episode 15 reward: -7.5351139277219765, max cost 8.96670538187027\n",
      "Episode 16 reward: -3.534773448109627, max cost 3.8288742899894714\n",
      "Episode 17 reward: -3.7550140798091887, max cost 4.056028485298157\n",
      "Episode 18 reward: -3.4258977964520456, max cost 3.6885168254375458\n",
      "Episode 19 reward: -3.549292526394128, max cost 3.870152994990349\n"
     ]
    }
   ],
   "source": [
    "for idx_episode in range(20):\n",
    "    total_reward = 0\n",
    "    total_max = 0\n",
    "    observation = test.reset()\n",
    "    for t in range(10):\n",
    "        action = trainer.compute_action(observation)\n",
    "        observation, reward, done, info = test.step(action)\n",
    "        total_max += info[\"actions_cost\"].max()\n",
    "        total_reward += reward\n",
    "    print(f\"Episode {idx_episode} reward: {total_reward}, max cost {total_max}\")"
   ]
  },
  {
   "cell_type": "code",
   "execution_count": 35,
   "metadata": {},
   "outputs": [
    {
     "name": "stdout",
     "output_type": "stream",
     "text": [
      "3.9191656935215\n"
     ]
    }
   ],
   "source": [
    "total = 0\n",
    "for idx_episode in range(100):\n",
    "    total_reward = 0\n",
    "    total_max = 0\n",
    "    observation = test.reset()\n",
    "    for t in range(10):\n",
    "        action = trainer.compute_action(observation)\n",
    "        observation, reward, done, info = test.step(action)\n",
    "        total_max += info[\"actions_cost\"].max()\n",
    "        total_reward += reward\n",
    "    total += total_max\n",
    "print(total/100)"
   ]
  },
  {
   "cell_type": "code",
   "execution_count": 38,
   "metadata": {},
   "outputs": [
    {
     "name": "stdout",
     "output_type": "stream",
     "text": [
      "3.730987723916769\n"
     ]
    }
   ],
   "source": [
    "total = 0\n",
    "for idx_episode in range(100):\n",
    "    total_reward = 0\n",
    "    total_max = 0\n",
    "    observation = test.reset()\n",
    "    for t in range(10):\n",
    "        action = trainer.compute_action(observation)\n",
    "        observation, reward, done, info = test.step(action)\n",
    "        total_max += info[\"actions_cost\"].max()\n",
    "        total_reward += reward\n",
    "    total += total_max\n",
    "print(total/100)"
   ]
  },
  {
   "cell_type": "code",
   "execution_count": 17,
   "metadata": {},
   "outputs": [],
   "source": [
    "import pandas as pd"
   ]
  },
  {
   "cell_type": "code",
   "execution_count": 179,
   "metadata": {},
   "outputs": [],
   "source": [
    "exp_name = \"A2CTrainer_NetWorkEnv-v0_2022-05-09_14-30-11eim4m1a8\"\n",
    "df = pd.read_csv(f\"../results/ray_results/{exp_name}/progress.csv\")"
   ]
  },
  {
   "cell_type": "code",
   "execution_count": 180,
   "metadata": {},
   "outputs": [
    {
     "data": {
      "application/vnd.plotly.v1+json": {
       "config": {
        "plotlyServerURL": "https://plot.ly"
       },
       "data": [
        {
         "hovertemplate": "timesteps_total=%{x}<br>episode_reward_mean=%{y}<extra></extra>",
         "legendgroup": "",
         "line": {
          "color": "#636efa",
          "dash": "solid"
         },
         "marker": {
          "symbol": "circle"
         },
         "mode": "lines",
         "name": "",
         "orientation": "v",
         "showlegend": false,
         "type": "scatter",
         "x": [
          320,
          18240,
          36160,
          54080,
          71680,
          89280,
          106880,
          124480,
          142080,
          159680,
          177280,
          194880,
          212480,
          229760,
          247360,
          264960,
          282560,
          300160,
          317760,
          335360,
          352960,
          370560,
          388160,
          405760,
          423360,
          440960,
          458560,
          476160,
          493760,
          511360,
          528960,
          546560,
          564160,
          581760,
          599360,
          616960,
          634560,
          652160,
          669760,
          687360,
          704960,
          722560,
          740160,
          757760,
          775040,
          792640,
          810240,
          827840,
          845440,
          863040,
          880640,
          898240,
          915840,
          933440,
          951040,
          968640,
          986240,
          1003840,
          1021440,
          1038400,
          1056000,
          1073600,
          1091200,
          1108800,
          1126400,
          1144000,
          1161600,
          1179200,
          1196800,
          1214400,
          1232000,
          1249600,
          1267200,
          1284800,
          1302400,
          1320000,
          1337600,
          1355200,
          1372800,
          1390400,
          1408000,
          1425600,
          1443200,
          1460800,
          1478400,
          1496000,
          1513600,
          1531200,
          1548800,
          1566400,
          1583360,
          1600960,
          1618560,
          1636160,
          1653760,
          1671360,
          1688960,
          1706560,
          1723840,
          1741440
         ],
         "xaxis": "x",
         "y": [
          -11.297360266969608,
          -11.208274879509824,
          -9.789706911691296,
          -8.175640147422664,
          -6.766792660488377,
          -6.094719154442437,
          -5.709833541272833,
          -5.503796873899492,
          -5.31153440732031,
          -5.202080108925702,
          -5.140256840536709,
          -5.044844670299255,
          -5.002341236197504,
          -4.973830880941792,
          -4.979555781994182,
          -4.937687702778077,
          -4.91195832607571,
          -4.877051276300422,
          -4.87224177425483,
          -4.854988289750906,
          -4.8540562429349405,
          -4.858014417152807,
          -4.832571873863435,
          -4.813405084028759,
          -4.816436283992783,
          -4.795034382483784,
          -4.811654936951888,
          -4.8019982276481,
          -4.788459228462853,
          -4.802585782641989,
          -4.788709905189123,
          -4.77575078761278,
          -4.759187525237261,
          -4.770715118067376,
          -4.758207288715644,
          -4.762678009323015,
          -4.7667487787057,
          -4.771114888537063,
          -4.74920368624818,
          -4.748331137920601,
          -4.751113123650396,
          -4.760297433703095,
          -4.757574546648026,
          -4.756175104907175,
          -4.758555800339077,
          -4.768435377085149,
          -4.781107893075883,
          -4.843654713222895,
          -4.847769254319317,
          -4.862648748290617,
          -4.868159171106636,
          -4.8516865727704666,
          -4.850263573787138,
          -4.856564340814841,
          -4.822629144297743,
          -4.783431364971816,
          -4.777613747588934,
          -4.778939359097105,
          -4.746781413647769,
          -4.723375860483446,
          -4.733627145388808,
          -4.732858696687985,
          -4.730822861910799,
          -4.74808543856176,
          -4.7778000949842205,
          -4.805311948100727,
          -4.794863177914371,
          -4.800084884963008,
          -4.8088081529085045,
          -4.771611250953815,
          -4.801619693180197,
          -4.798079184728218,
          -4.81496604490042,
          -4.828201892539914,
          -4.83223706004802,
          -4.800651132647479,
          -4.783415860861996,
          -4.766415811520035,
          -4.779903195209144,
          -4.796676007698789,
          -4.794592799403612,
          -4.78865730212993,
          -4.784975610782871,
          -4.791494026401888,
          -4.782167476703174,
          -4.77708064486708,
          -4.784783028181389,
          -4.769273956418536,
          -4.771855949160295,
          -4.7645974098119925,
          -4.7686035489322816,
          -4.740084370792051,
          -4.749308462105291,
          -4.752161403522248,
          -4.746522581667016,
          -4.765725076351141,
          -4.762471760297307,
          -4.741367677508529,
          -4.754802983137584,
          -4.787799623168191
         ],
         "yaxis": "y"
        }
       ],
       "layout": {
        "legend": {
         "tracegroupgap": 0
        },
        "margin": {
         "t": 60
        },
        "template": {
         "data": {
          "bar": [
           {
            "error_x": {
             "color": "#2a3f5f"
            },
            "error_y": {
             "color": "#2a3f5f"
            },
            "marker": {
             "line": {
              "color": "#E5ECF6",
              "width": 0.5
             },
             "pattern": {
              "fillmode": "overlay",
              "size": 10,
              "solidity": 0.2
             }
            },
            "type": "bar"
           }
          ],
          "barpolar": [
           {
            "marker": {
             "line": {
              "color": "#E5ECF6",
              "width": 0.5
             },
             "pattern": {
              "fillmode": "overlay",
              "size": 10,
              "solidity": 0.2
             }
            },
            "type": "barpolar"
           }
          ],
          "carpet": [
           {
            "aaxis": {
             "endlinecolor": "#2a3f5f",
             "gridcolor": "white",
             "linecolor": "white",
             "minorgridcolor": "white",
             "startlinecolor": "#2a3f5f"
            },
            "baxis": {
             "endlinecolor": "#2a3f5f",
             "gridcolor": "white",
             "linecolor": "white",
             "minorgridcolor": "white",
             "startlinecolor": "#2a3f5f"
            },
            "type": "carpet"
           }
          ],
          "choropleth": [
           {
            "colorbar": {
             "outlinewidth": 0,
             "ticks": ""
            },
            "type": "choropleth"
           }
          ],
          "contour": [
           {
            "colorbar": {
             "outlinewidth": 0,
             "ticks": ""
            },
            "colorscale": [
             [
              0,
              "#0d0887"
             ],
             [
              0.1111111111111111,
              "#46039f"
             ],
             [
              0.2222222222222222,
              "#7201a8"
             ],
             [
              0.3333333333333333,
              "#9c179e"
             ],
             [
              0.4444444444444444,
              "#bd3786"
             ],
             [
              0.5555555555555556,
              "#d8576b"
             ],
             [
              0.6666666666666666,
              "#ed7953"
             ],
             [
              0.7777777777777778,
              "#fb9f3a"
             ],
             [
              0.8888888888888888,
              "#fdca26"
             ],
             [
              1,
              "#f0f921"
             ]
            ],
            "type": "contour"
           }
          ],
          "contourcarpet": [
           {
            "colorbar": {
             "outlinewidth": 0,
             "ticks": ""
            },
            "type": "contourcarpet"
           }
          ],
          "heatmap": [
           {
            "colorbar": {
             "outlinewidth": 0,
             "ticks": ""
            },
            "colorscale": [
             [
              0,
              "#0d0887"
             ],
             [
              0.1111111111111111,
              "#46039f"
             ],
             [
              0.2222222222222222,
              "#7201a8"
             ],
             [
              0.3333333333333333,
              "#9c179e"
             ],
             [
              0.4444444444444444,
              "#bd3786"
             ],
             [
              0.5555555555555556,
              "#d8576b"
             ],
             [
              0.6666666666666666,
              "#ed7953"
             ],
             [
              0.7777777777777778,
              "#fb9f3a"
             ],
             [
              0.8888888888888888,
              "#fdca26"
             ],
             [
              1,
              "#f0f921"
             ]
            ],
            "type": "heatmap"
           }
          ],
          "heatmapgl": [
           {
            "colorbar": {
             "outlinewidth": 0,
             "ticks": ""
            },
            "colorscale": [
             [
              0,
              "#0d0887"
             ],
             [
              0.1111111111111111,
              "#46039f"
             ],
             [
              0.2222222222222222,
              "#7201a8"
             ],
             [
              0.3333333333333333,
              "#9c179e"
             ],
             [
              0.4444444444444444,
              "#bd3786"
             ],
             [
              0.5555555555555556,
              "#d8576b"
             ],
             [
              0.6666666666666666,
              "#ed7953"
             ],
             [
              0.7777777777777778,
              "#fb9f3a"
             ],
             [
              0.8888888888888888,
              "#fdca26"
             ],
             [
              1,
              "#f0f921"
             ]
            ],
            "type": "heatmapgl"
           }
          ],
          "histogram": [
           {
            "marker": {
             "pattern": {
              "fillmode": "overlay",
              "size": 10,
              "solidity": 0.2
             }
            },
            "type": "histogram"
           }
          ],
          "histogram2d": [
           {
            "colorbar": {
             "outlinewidth": 0,
             "ticks": ""
            },
            "colorscale": [
             [
              0,
              "#0d0887"
             ],
             [
              0.1111111111111111,
              "#46039f"
             ],
             [
              0.2222222222222222,
              "#7201a8"
             ],
             [
              0.3333333333333333,
              "#9c179e"
             ],
             [
              0.4444444444444444,
              "#bd3786"
             ],
             [
              0.5555555555555556,
              "#d8576b"
             ],
             [
              0.6666666666666666,
              "#ed7953"
             ],
             [
              0.7777777777777778,
              "#fb9f3a"
             ],
             [
              0.8888888888888888,
              "#fdca26"
             ],
             [
              1,
              "#f0f921"
             ]
            ],
            "type": "histogram2d"
           }
          ],
          "histogram2dcontour": [
           {
            "colorbar": {
             "outlinewidth": 0,
             "ticks": ""
            },
            "colorscale": [
             [
              0,
              "#0d0887"
             ],
             [
              0.1111111111111111,
              "#46039f"
             ],
             [
              0.2222222222222222,
              "#7201a8"
             ],
             [
              0.3333333333333333,
              "#9c179e"
             ],
             [
              0.4444444444444444,
              "#bd3786"
             ],
             [
              0.5555555555555556,
              "#d8576b"
             ],
             [
              0.6666666666666666,
              "#ed7953"
             ],
             [
              0.7777777777777778,
              "#fb9f3a"
             ],
             [
              0.8888888888888888,
              "#fdca26"
             ],
             [
              1,
              "#f0f921"
             ]
            ],
            "type": "histogram2dcontour"
           }
          ],
          "mesh3d": [
           {
            "colorbar": {
             "outlinewidth": 0,
             "ticks": ""
            },
            "type": "mesh3d"
           }
          ],
          "parcoords": [
           {
            "line": {
             "colorbar": {
              "outlinewidth": 0,
              "ticks": ""
             }
            },
            "type": "parcoords"
           }
          ],
          "pie": [
           {
            "automargin": true,
            "type": "pie"
           }
          ],
          "scatter": [
           {
            "fillpattern": {
             "fillmode": "overlay",
             "size": 10,
             "solidity": 0.2
            },
            "type": "scatter"
           }
          ],
          "scatter3d": [
           {
            "line": {
             "colorbar": {
              "outlinewidth": 0,
              "ticks": ""
             }
            },
            "marker": {
             "colorbar": {
              "outlinewidth": 0,
              "ticks": ""
             }
            },
            "type": "scatter3d"
           }
          ],
          "scattercarpet": [
           {
            "marker": {
             "colorbar": {
              "outlinewidth": 0,
              "ticks": ""
             }
            },
            "type": "scattercarpet"
           }
          ],
          "scattergeo": [
           {
            "marker": {
             "colorbar": {
              "outlinewidth": 0,
              "ticks": ""
             }
            },
            "type": "scattergeo"
           }
          ],
          "scattergl": [
           {
            "marker": {
             "colorbar": {
              "outlinewidth": 0,
              "ticks": ""
             }
            },
            "type": "scattergl"
           }
          ],
          "scattermapbox": [
           {
            "marker": {
             "colorbar": {
              "outlinewidth": 0,
              "ticks": ""
             }
            },
            "type": "scattermapbox"
           }
          ],
          "scatterpolar": [
           {
            "marker": {
             "colorbar": {
              "outlinewidth": 0,
              "ticks": ""
             }
            },
            "type": "scatterpolar"
           }
          ],
          "scatterpolargl": [
           {
            "marker": {
             "colorbar": {
              "outlinewidth": 0,
              "ticks": ""
             }
            },
            "type": "scatterpolargl"
           }
          ],
          "scatterternary": [
           {
            "marker": {
             "colorbar": {
              "outlinewidth": 0,
              "ticks": ""
             }
            },
            "type": "scatterternary"
           }
          ],
          "surface": [
           {
            "colorbar": {
             "outlinewidth": 0,
             "ticks": ""
            },
            "colorscale": [
             [
              0,
              "#0d0887"
             ],
             [
              0.1111111111111111,
              "#46039f"
             ],
             [
              0.2222222222222222,
              "#7201a8"
             ],
             [
              0.3333333333333333,
              "#9c179e"
             ],
             [
              0.4444444444444444,
              "#bd3786"
             ],
             [
              0.5555555555555556,
              "#d8576b"
             ],
             [
              0.6666666666666666,
              "#ed7953"
             ],
             [
              0.7777777777777778,
              "#fb9f3a"
             ],
             [
              0.8888888888888888,
              "#fdca26"
             ],
             [
              1,
              "#f0f921"
             ]
            ],
            "type": "surface"
           }
          ],
          "table": [
           {
            "cells": {
             "fill": {
              "color": "#EBF0F8"
             },
             "line": {
              "color": "white"
             }
            },
            "header": {
             "fill": {
              "color": "#C8D4E3"
             },
             "line": {
              "color": "white"
             }
            },
            "type": "table"
           }
          ]
         },
         "layout": {
          "annotationdefaults": {
           "arrowcolor": "#2a3f5f",
           "arrowhead": 0,
           "arrowwidth": 1
          },
          "autotypenumbers": "strict",
          "coloraxis": {
           "colorbar": {
            "outlinewidth": 0,
            "ticks": ""
           }
          },
          "colorscale": {
           "diverging": [
            [
             0,
             "#8e0152"
            ],
            [
             0.1,
             "#c51b7d"
            ],
            [
             0.2,
             "#de77ae"
            ],
            [
             0.3,
             "#f1b6da"
            ],
            [
             0.4,
             "#fde0ef"
            ],
            [
             0.5,
             "#f7f7f7"
            ],
            [
             0.6,
             "#e6f5d0"
            ],
            [
             0.7,
             "#b8e186"
            ],
            [
             0.8,
             "#7fbc41"
            ],
            [
             0.9,
             "#4d9221"
            ],
            [
             1,
             "#276419"
            ]
           ],
           "sequential": [
            [
             0,
             "#0d0887"
            ],
            [
             0.1111111111111111,
             "#46039f"
            ],
            [
             0.2222222222222222,
             "#7201a8"
            ],
            [
             0.3333333333333333,
             "#9c179e"
            ],
            [
             0.4444444444444444,
             "#bd3786"
            ],
            [
             0.5555555555555556,
             "#d8576b"
            ],
            [
             0.6666666666666666,
             "#ed7953"
            ],
            [
             0.7777777777777778,
             "#fb9f3a"
            ],
            [
             0.8888888888888888,
             "#fdca26"
            ],
            [
             1,
             "#f0f921"
            ]
           ],
           "sequentialminus": [
            [
             0,
             "#0d0887"
            ],
            [
             0.1111111111111111,
             "#46039f"
            ],
            [
             0.2222222222222222,
             "#7201a8"
            ],
            [
             0.3333333333333333,
             "#9c179e"
            ],
            [
             0.4444444444444444,
             "#bd3786"
            ],
            [
             0.5555555555555556,
             "#d8576b"
            ],
            [
             0.6666666666666666,
             "#ed7953"
            ],
            [
             0.7777777777777778,
             "#fb9f3a"
            ],
            [
             0.8888888888888888,
             "#fdca26"
            ],
            [
             1,
             "#f0f921"
            ]
           ]
          },
          "colorway": [
           "#636efa",
           "#EF553B",
           "#00cc96",
           "#ab63fa",
           "#FFA15A",
           "#19d3f3",
           "#FF6692",
           "#B6E880",
           "#FF97FF",
           "#FECB52"
          ],
          "font": {
           "color": "#2a3f5f"
          },
          "geo": {
           "bgcolor": "white",
           "lakecolor": "white",
           "landcolor": "#E5ECF6",
           "showlakes": true,
           "showland": true,
           "subunitcolor": "white"
          },
          "hoverlabel": {
           "align": "left"
          },
          "hovermode": "closest",
          "mapbox": {
           "style": "light"
          },
          "paper_bgcolor": "white",
          "plot_bgcolor": "#E5ECF6",
          "polar": {
           "angularaxis": {
            "gridcolor": "white",
            "linecolor": "white",
            "ticks": ""
           },
           "bgcolor": "#E5ECF6",
           "radialaxis": {
            "gridcolor": "white",
            "linecolor": "white",
            "ticks": ""
           }
          },
          "scene": {
           "xaxis": {
            "backgroundcolor": "#E5ECF6",
            "gridcolor": "white",
            "gridwidth": 2,
            "linecolor": "white",
            "showbackground": true,
            "ticks": "",
            "zerolinecolor": "white"
           },
           "yaxis": {
            "backgroundcolor": "#E5ECF6",
            "gridcolor": "white",
            "gridwidth": 2,
            "linecolor": "white",
            "showbackground": true,
            "ticks": "",
            "zerolinecolor": "white"
           },
           "zaxis": {
            "backgroundcolor": "#E5ECF6",
            "gridcolor": "white",
            "gridwidth": 2,
            "linecolor": "white",
            "showbackground": true,
            "ticks": "",
            "zerolinecolor": "white"
           }
          },
          "shapedefaults": {
           "line": {
            "color": "#2a3f5f"
           }
          },
          "ternary": {
           "aaxis": {
            "gridcolor": "white",
            "linecolor": "white",
            "ticks": ""
           },
           "baxis": {
            "gridcolor": "white",
            "linecolor": "white",
            "ticks": ""
           },
           "bgcolor": "#E5ECF6",
           "caxis": {
            "gridcolor": "white",
            "linecolor": "white",
            "ticks": ""
           }
          },
          "title": {
           "x": 0.05
          },
          "xaxis": {
           "automargin": true,
           "gridcolor": "white",
           "linecolor": "white",
           "ticks": "",
           "title": {
            "standoff": 15
           },
           "zerolinecolor": "white",
           "zerolinewidth": 2
          },
          "yaxis": {
           "automargin": true,
           "gridcolor": "white",
           "linecolor": "white",
           "ticks": "",
           "title": {
            "standoff": 15
           },
           "zerolinecolor": "white",
           "zerolinewidth": 2
          }
         }
        },
        "xaxis": {
         "anchor": "y",
         "domain": [
          0,
          1
         ],
         "title": {
          "text": "timesteps_total"
         }
        },
        "yaxis": {
         "anchor": "x",
         "domain": [
          0,
          1
         ],
         "title": {
          "text": "episode_reward_mean"
         }
        }
       }
      }
     },
     "metadata": {},
     "output_type": "display_data"
    }
   ],
   "source": [
    "import plotly.express as px\n",
    "\n",
    "fig = px.line(df, x='timesteps_total', y=\"episode_reward_mean\")\n",
    "fig.show()"
   ]
  },
  {
   "cell_type": "code",
   "execution_count": 181,
   "metadata": {},
   "outputs": [
    {
     "data": {
      "text/plain": [
       "0    -9.374210\n",
       "1    -7.717627\n",
       "2    -6.689185\n",
       "3    -5.141016\n",
       "4    -4.783346\n",
       "        ...   \n",
       "95   -4.312996\n",
       "96   -4.288949\n",
       "97   -4.266681\n",
       "98   -4.323496\n",
       "99   -4.272373\n",
       "Name: episode_reward_max, Length: 100, dtype: float64"
      ]
     },
     "execution_count": 181,
     "metadata": {},
     "output_type": "execute_result"
    }
   ],
   "source": [
    "df[\"episode_reward_max\"]"
   ]
  },
  {
   "cell_type": "code",
   "execution_count": 182,
   "metadata": {},
   "outputs": [],
   "source": [
    "def add_plot(fig, x, y, y_lower, y_upper, label, rgb_str):\n",
    "    x_rev = x[::-1]\n",
    "    y_lower = y_lower[::-1]\n",
    "\n",
    "    fig.add_trace(go.Scatter(\n",
    "    x=x+x_rev,\n",
    "    y=y_upper+y_lower,\n",
    "    fill='toself',\n",
    "    fillcolor=f'rgba({rgb_str},0.2)',\n",
    "    line_color='rgba(255,255,255,0)',\n",
    "    showlegend=False,\n",
    "    name=label,\n",
    "    ))\n",
    "    fig.add_trace(go.Scatter(\n",
    "        x=x, y=y,\n",
    "        line_color=f'rgb({rgb_str})',\n",
    "        name=label,\n",
    "    ))\n",
    "\n",
    "    return fig       "
   ]
  },
  {
   "cell_type": "code",
   "execution_count": 183,
   "metadata": {},
   "outputs": [],
   "source": [
    "palette = [\n",
    "    \"38, 70, 83\",\n",
    "    \"42, 157, 143\",\n",
    "    \"233, 196, 106\",\n",
    "    \"244, 162, 97\",\n",
    "    \"231, 111, 81\"\n",
    "]"
   ]
  },
  {
   "cell_type": "code",
   "execution_count": 194,
   "metadata": {},
   "outputs": [
    {
     "data": {
      "application/vnd.plotly.v1+json": {
       "config": {
        "plotlyServerURL": "https://plot.ly"
       },
       "data": [
        {
         "fill": "toself",
         "fillcolor": "rgba(38, 70, 83,0.2)",
         "line": {
          "color": "rgba(255,255,255,0)"
         },
         "mode": "lines",
         "name": "RL Agent",
         "showlegend": false,
         "type": "scatter",
         "x": [
          320,
          18240,
          36160,
          54080,
          71680,
          89280,
          106880,
          124480,
          142080,
          159680,
          177280,
          194880,
          212480,
          229760,
          247360,
          264960,
          282560,
          300160,
          317760,
          335360,
          352960,
          370560,
          388160,
          405760,
          423360,
          440960,
          458560,
          476160,
          493760,
          511360,
          528960,
          546560,
          564160,
          581760,
          599360,
          616960,
          634560,
          652160,
          669760,
          687360,
          704960,
          722560,
          740160,
          757760,
          775040,
          792640,
          810240,
          827840,
          845440,
          863040,
          880640,
          898240,
          915840,
          933440,
          951040,
          968640,
          986240,
          1003840,
          1021440,
          1038400,
          1056000,
          1073600,
          1091200,
          1108800,
          1126400,
          1144000,
          1161600,
          1179200,
          1196800,
          1214400,
          1232000,
          1249600,
          1267200,
          1284800,
          1302400,
          1320000,
          1337600,
          1355200,
          1372800,
          1390400,
          1408000,
          1425600,
          1443200,
          1460800,
          1478400,
          1496000,
          1513600,
          1531200,
          1548800,
          1566400,
          1583360,
          1600960,
          1618560,
          1636160,
          1653760,
          1671360,
          1688960,
          1706560,
          1723840,
          1741440,
          1741440,
          1723840,
          1706560,
          1688960,
          1671360,
          1653760,
          1636160,
          1618560,
          1600960,
          1583360,
          1566400,
          1548800,
          1531200,
          1513600,
          1496000,
          1478400,
          1460800,
          1443200,
          1425600,
          1408000,
          1390400,
          1372800,
          1355200,
          1337600,
          1320000,
          1302400,
          1284800,
          1267200,
          1249600,
          1232000,
          1214400,
          1196800,
          1179200,
          1161600,
          1144000,
          1126400,
          1108800,
          1091200,
          1073600,
          1056000,
          1038400,
          1021440,
          1003840,
          986240,
          968640,
          951040,
          933440,
          915840,
          898240,
          880640,
          863040,
          845440,
          827840,
          810240,
          792640,
          775040,
          757760,
          740160,
          722560,
          704960,
          687360,
          669760,
          652160,
          634560,
          616960,
          599360,
          581760,
          564160,
          546560,
          528960,
          511360,
          493760,
          476160,
          458560,
          440960,
          423360,
          405760,
          388160,
          370560,
          352960,
          335360,
          317760,
          300160,
          282560,
          264960,
          247360,
          229760,
          212480,
          194880,
          177280,
          159680,
          142080,
          124480,
          106880,
          89280,
          71680,
          54080,
          36160,
          18240,
          320
         ],
         "y": [
          -9.674209958924397,
          -8.017626713999954,
          -6.9891847592366885,
          -5.441016052324896,
          -5.083346471450314,
          -5.064355856356732,
          -4.6405993794349065,
          -4.720698413840159,
          -4.68241275526822,
          -4.6231605407657375,
          -4.638844600500008,
          -4.571589033909533,
          -4.629488572369669,
          -4.645043807870671,
          -4.638834579403144,
          -4.591960469204629,
          -4.642981702468604,
          -4.599327789642579,
          -4.608904365691967,
          -4.636212002419965,
          -4.5648255244455305,
          -4.613756164047116,
          -4.502369863654578,
          -4.599891805610325,
          -4.605204001445492,
          -4.543427262568502,
          -4.575696641089333,
          -4.541725135646801,
          -4.582871308952575,
          -4.5973208457727806,
          -4.585506729776063,
          -4.582489053311717,
          -4.582851523672886,
          -4.439188540964896,
          -4.499744204602965,
          -4.630854529765794,
          -4.5529475267567046,
          -4.55040730166174,
          -4.574571458463623,
          -4.558819357469482,
          -4.56513062476451,
          -4.577337139034325,
          -4.559884129376531,
          -4.5552558452635115,
          -4.5068300126724665,
          -4.599560768864054,
          -4.542896889691859,
          -4.586417530296374,
          -4.597478583483096,
          -4.582683011642873,
          -4.615690579062147,
          -4.580954156223404,
          -4.596869290968249,
          -4.625089712754068,
          -4.5570288049248715,
          -4.650383815965195,
          -4.626855661693372,
          -4.572371783261954,
          -4.619228372411572,
          -4.481284523121626,
          -4.56349359180004,
          -4.563465606742233,
          -4.530713169260922,
          -4.5761974192024475,
          -4.592363612904994,
          -4.597266529414818,
          -4.5931832016531295,
          -4.62182481860421,
          -4.612281661707967,
          -4.540799622554593,
          -4.588540020024247,
          -4.633996958468506,
          -4.602897859584933,
          -4.578612798879338,
          -4.638800349097449,
          -4.541350830447951,
          -4.621578402736531,
          -4.582206323668597,
          -4.605828406071245,
          -4.573277384278564,
          -4.546864174368995,
          -4.547147147817508,
          -4.523081955445403,
          -4.581662846577694,
          -4.612324693125851,
          -4.612998439288657,
          -4.5769513644645405,
          -4.581906095747804,
          -4.599441757896946,
          -4.58258212411753,
          -4.5707131820685385,
          -4.586123778581775,
          -4.574116808996552,
          -4.477294986479077,
          -4.539383883942284,
          -4.612996194607969,
          -4.588948650832081,
          -4.566680634791133,
          -4.623496260114484,
          -4.5723731380460775,
          -5.071467184048221,
          -5.080074055133112,
          -4.8353423068019925,
          -5.053120714745706,
          -4.981921613205093,
          -4.971924016275186,
          -4.855367359496559,
          -5.066036538749452,
          -4.9438212862098085,
          -4.882302649397728,
          -5.071568173777645,
          -5.031862994737212,
          -4.897424310325,
          -5.004909313618423,
          -5.0269706278392485,
          -5.005430768312926,
          -4.985606085873273,
          -5.0696122184691665,
          -4.984724969771088,
          -5.150532627505954,
          -5.2212421562332905,
          -4.87045814742131,
          -4.958274275771909,
          -5.26857832305694,
          -5.04116758369314,
          -5.1960237884765865,
          -5.187542689227851,
          -5.0317361458288445,
          -5.134775089668187,
          -5.118487239078807,
          -4.955735594918393,
          -5.085459183962109,
          -5.070771311997745,
          -4.997471605517064,
          -5.19593111966569,
          -4.9577209487219465,
          -5.053358322817205,
          -4.978306497577936,
          -4.926062566651533,
          -5.060858278221352,
          -4.875647849377746,
          -5.217499631768669,
          -5.150480999902447,
          -5.032613005539232,
          -5.044396524074672,
          -5.175786164390219,
          -5.429128756345157,
          -5.2510169590826195,
          -5.235926706284977,
          -5.328824734460913,
          -5.2863486328202915,
          -5.211103851833229,
          -5.492916706697864,
          -4.950593593254863,
          -5.231815905021022,
          -4.927056634476154,
          -4.970481854351662,
          -4.979902986084367,
          -4.936824095336263,
          -4.979943291403944,
          -5.004686117422845,
          -4.917172723895489,
          -4.956653908234331,
          -4.940813381728655,
          -5.022855937847653,
          -4.948198688897698,
          -5.0496187540467785,
          -5.066787739323675,
          -5.05618630464332,
          -5.11683009842803,
          -5.084964004854566,
          -5.176078900557479,
          -5.423354646849246,
          -5.167465822923906,
          -5.10791649605167,
          -5.1505340647074895,
          -5.254427083288677,
          -5.532063968165961,
          -5.416651798280501,
          -5.241555681166465,
          -5.41456604157086,
          -5.584062355473369,
          -5.227103038002034,
          -5.573844675264571,
          -5.509016397141274,
          -5.426727595004589,
          -5.6162037954899295,
          -5.617378968852042,
          -5.8715952245348575,
          -5.876069536884528,
          -6.125510465013681,
          -6.309085871168534,
          -6.510908431062345,
          -6.745646921598413,
          -7.536714545752272,
          -9.25272981841845,
          -11.523219466370264,
          -12.960724381106663,
          -14.002243223765811,
          -13.650015698864005
         ]
        },
        {
         "line": {
          "color": "rgb(38, 70, 83)"
         },
         "mode": "lines",
         "name": "RL Agent",
         "type": "scatter",
         "x": [
          320,
          18240,
          36160,
          54080,
          71680,
          89280,
          106880,
          124480,
          142080,
          159680,
          177280,
          194880,
          212480,
          229760,
          247360,
          264960,
          282560,
          300160,
          317760,
          335360,
          352960,
          370560,
          388160,
          405760,
          423360,
          440960,
          458560,
          476160,
          493760,
          511360,
          528960,
          546560,
          564160,
          581760,
          599360,
          616960,
          634560,
          652160,
          669760,
          687360,
          704960,
          722560,
          740160,
          757760,
          775040,
          792640,
          810240,
          827840,
          845440,
          863040,
          880640,
          898240,
          915840,
          933440,
          951040,
          968640,
          986240,
          1003840,
          1021440,
          1038400,
          1056000,
          1073600,
          1091200,
          1108800,
          1126400,
          1144000,
          1161600,
          1179200,
          1196800,
          1214400,
          1232000,
          1249600,
          1267200,
          1284800,
          1302400,
          1320000,
          1337600,
          1355200,
          1372800,
          1390400,
          1408000,
          1425600,
          1443200,
          1460800,
          1478400,
          1496000,
          1513600,
          1531200,
          1548800,
          1566400,
          1583360,
          1600960,
          1618560,
          1636160,
          1653760,
          1671360,
          1688960,
          1706560,
          1723840,
          1741440
         ],
         "y": [
          -11.297360266969608,
          -11.208274879509824,
          -9.789706911691296,
          -8.175640147422664,
          -6.766792660488377,
          -6.094719154442437,
          -5.709833541272833,
          -5.503796873899492,
          -5.31153440732031,
          -5.202080108925702,
          -5.140256840536709,
          -5.044844670299255,
          -5.002341236197504,
          -4.973830880941792,
          -4.979555781994182,
          -4.937687702778077,
          -4.91195832607571,
          -4.877051276300422,
          -4.87224177425483,
          -4.854988289750906,
          -4.8540562429349405,
          -4.858014417152807,
          -4.832571873863435,
          -4.813405084028759,
          -4.816436283992783,
          -4.795034382483784,
          -4.811654936951888,
          -4.8019982276481,
          -4.788459228462853,
          -4.802585782641989,
          -4.788709905189123,
          -4.77575078761278,
          -4.759187525237261,
          -4.770715118067376,
          -4.758207288715644,
          -4.762678009323015,
          -4.7667487787057,
          -4.771114888537063,
          -4.74920368624818,
          -4.748331137920601,
          -4.751113123650396,
          -4.760297433703095,
          -4.757574546648026,
          -4.756175104907175,
          -4.758555800339077,
          -4.768435377085149,
          -4.781107893075883,
          -4.843654713222895,
          -4.847769254319317,
          -4.862648748290617,
          -4.868159171106636,
          -4.8516865727704666,
          -4.850263573787138,
          -4.856564340814841,
          -4.822629144297743,
          -4.783431364971816,
          -4.777613747588934,
          -4.778939359097105,
          -4.746781413647769,
          -4.723375860483446,
          -4.733627145388808,
          -4.732858696687985,
          -4.730822861910799,
          -4.74808543856176,
          -4.7778000949842205,
          -4.805311948100727,
          -4.794863177914371,
          -4.800084884963008,
          -4.8088081529085045,
          -4.771611250953815,
          -4.801619693180197,
          -4.798079184728218,
          -4.81496604490042,
          -4.828201892539914,
          -4.83223706004802,
          -4.800651132647479,
          -4.783415860861996,
          -4.766415811520035,
          -4.779903195209144,
          -4.796676007698789,
          -4.794592799403612,
          -4.78865730212993,
          -4.784975610782871,
          -4.791494026401888,
          -4.782167476703174,
          -4.77708064486708,
          -4.784783028181389,
          -4.769273956418536,
          -4.771855949160295,
          -4.7645974098119925,
          -4.7686035489322816,
          -4.740084370792051,
          -4.749308462105291,
          -4.752161403522248,
          -4.746522581667016,
          -4.765725076351141,
          -4.762471760297307,
          -4.741367677508529,
          -4.754802983137584,
          -4.787799623168191
         ]
        },
        {
         "fill": "toself",
         "fillcolor": "rgba(233, 196, 106,0.2)",
         "line": {
          "color": "rgba(255,255,255,0)"
         },
         "mode": "lines",
         "name": "Closest MEC",
         "showlegend": false,
         "type": "scatter",
         "x": [
          320,
          18240,
          36160,
          54080,
          71680,
          89280,
          106880,
          124480,
          142080,
          159680,
          177280,
          194880,
          212480,
          229760,
          247360,
          264960,
          282560,
          300160,
          317760,
          335360,
          352960,
          370560,
          388160,
          405760,
          423360,
          440960,
          458560,
          476160,
          493760,
          511360,
          528960,
          546560,
          564160,
          581760,
          599360,
          616960,
          634560,
          652160,
          669760,
          687360,
          704960,
          722560,
          740160,
          757760,
          775040,
          792640,
          810240,
          827840,
          845440,
          863040,
          880640,
          898240,
          915840,
          933440,
          951040,
          968640,
          986240,
          1003840,
          1021440,
          1038400,
          1056000,
          1073600,
          1091200,
          1108800,
          1126400,
          1144000,
          1161600,
          1179200,
          1196800,
          1214400,
          1232000,
          1249600,
          1267200,
          1284800,
          1302400,
          1320000,
          1337600,
          1355200,
          1372800,
          1390400,
          1408000,
          1425600,
          1443200,
          1460800,
          1478400,
          1496000,
          1513600,
          1531200,
          1548800,
          1566400,
          1583360,
          1600960,
          1618560,
          1636160,
          1653760,
          1671360,
          1688960,
          1706560,
          1723840,
          1741440,
          1741440,
          1723840,
          1706560,
          1688960,
          1671360,
          1653760,
          1636160,
          1618560,
          1600960,
          1583360,
          1566400,
          1548800,
          1531200,
          1513600,
          1496000,
          1478400,
          1460800,
          1443200,
          1425600,
          1408000,
          1390400,
          1372800,
          1355200,
          1337600,
          1320000,
          1302400,
          1284800,
          1267200,
          1249600,
          1232000,
          1214400,
          1196800,
          1179200,
          1161600,
          1144000,
          1126400,
          1108800,
          1091200,
          1073600,
          1056000,
          1038400,
          1021440,
          1003840,
          986240,
          968640,
          951040,
          933440,
          915840,
          898240,
          880640,
          863040,
          845440,
          827840,
          810240,
          792640,
          775040,
          757760,
          740160,
          722560,
          704960,
          687360,
          669760,
          652160,
          634560,
          616960,
          599360,
          581760,
          564160,
          546560,
          528960,
          511360,
          493760,
          476160,
          458560,
          440960,
          423360,
          405760,
          388160,
          370560,
          352960,
          335360,
          317760,
          300160,
          282560,
          264960,
          247360,
          229760,
          212480,
          194880,
          177280,
          159680,
          142080,
          124480,
          106880,
          89280,
          71680,
          54080,
          36160,
          18240,
          320
         ],
         "y": [
          -5.376183022146616,
          -5.376183022146616,
          -5.376183022146616,
          -5.376183022146616,
          -5.376183022146616,
          -5.376183022146616,
          -5.376183022146616,
          -5.376183022146616,
          -5.376183022146616,
          -5.376183022146616,
          -5.376183022146616,
          -5.376183022146616,
          -5.376183022146616,
          -5.376183022146616,
          -5.376183022146616,
          -5.376183022146616,
          -5.376183022146616,
          -5.376183022146616,
          -5.376183022146616,
          -5.376183022146616,
          -5.376183022146616,
          -5.376183022146616,
          -5.376183022146616,
          -5.376183022146616,
          -5.376183022146616,
          -5.376183022146616,
          -5.376183022146616,
          -5.376183022146616,
          -5.376183022146616,
          -5.376183022146616,
          -5.376183022146616,
          -5.376183022146616,
          -5.376183022146616,
          -5.376183022146616,
          -5.376183022146616,
          -5.376183022146616,
          -5.376183022146616,
          -5.376183022146616,
          -5.376183022146616,
          -5.376183022146616,
          -5.376183022146616,
          -5.376183022146616,
          -5.376183022146616,
          -5.376183022146616,
          -5.376183022146616,
          -5.376183022146616,
          -5.376183022146616,
          -5.376183022146616,
          -5.376183022146616,
          -5.376183022146616,
          -5.376183022146616,
          -5.376183022146616,
          -5.376183022146616,
          -5.376183022146616,
          -5.376183022146616,
          -5.376183022146616,
          -5.376183022146616,
          -5.376183022146616,
          -5.376183022146616,
          -5.376183022146616,
          -5.376183022146616,
          -5.376183022146616,
          -5.376183022146616,
          -5.376183022146616,
          -5.376183022146616,
          -5.376183022146616,
          -5.376183022146616,
          -5.376183022146616,
          -5.376183022146616,
          -5.376183022146616,
          -5.376183022146616,
          -5.376183022146616,
          -5.376183022146616,
          -5.376183022146616,
          -5.376183022146616,
          -5.376183022146616,
          -5.376183022146616,
          -5.376183022146616,
          -5.376183022146616,
          -5.376183022146616,
          -5.376183022146616,
          -5.376183022146616,
          -5.376183022146616,
          -5.376183022146616,
          -5.376183022146616,
          -5.376183022146616,
          -5.376183022146616,
          -5.376183022146616,
          -5.376183022146616,
          -5.376183022146616,
          -5.376183022146616,
          -5.376183022146616,
          -5.376183022146616,
          -5.376183022146616,
          -5.376183022146616,
          -5.376183022146616,
          -5.376183022146616,
          -5.376183022146616,
          -5.376183022146616,
          -5.376183022146616,
          -5.492672551852735,
          -5.492672551852735,
          -5.492672551852735,
          -5.492672551852735,
          -5.492672551852735,
          -5.492672551852735,
          -5.492672551852735,
          -5.492672551852735,
          -5.492672551852735,
          -5.492672551852735,
          -5.492672551852735,
          -5.492672551852735,
          -5.492672551852735,
          -5.492672551852735,
          -5.492672551852735,
          -5.492672551852735,
          -5.492672551852735,
          -5.492672551852735,
          -5.492672551852735,
          -5.492672551852735,
          -5.492672551852735,
          -5.492672551852735,
          -5.492672551852735,
          -5.492672551852735,
          -5.492672551852735,
          -5.492672551852735,
          -5.492672551852735,
          -5.492672551852735,
          -5.492672551852735,
          -5.492672551852735,
          -5.492672551852735,
          -5.492672551852735,
          -5.492672551852735,
          -5.492672551852735,
          -5.492672551852735,
          -5.492672551852735,
          -5.492672551852735,
          -5.492672551852735,
          -5.492672551852735,
          -5.492672551852735,
          -5.492672551852735,
          -5.492672551852735,
          -5.492672551852735,
          -5.492672551852735,
          -5.492672551852735,
          -5.492672551852735,
          -5.492672551852735,
          -5.492672551852735,
          -5.492672551852735,
          -5.492672551852735,
          -5.492672551852735,
          -5.492672551852735,
          -5.492672551852735,
          -5.492672551852735,
          -5.492672551852735,
          -5.492672551852735,
          -5.492672551852735,
          -5.492672551852735,
          -5.492672551852735,
          -5.492672551852735,
          -5.492672551852735,
          -5.492672551852735,
          -5.492672551852735,
          -5.492672551852735,
          -5.492672551852735,
          -5.492672551852735,
          -5.492672551852735,
          -5.492672551852735,
          -5.492672551852735,
          -5.492672551852735,
          -5.492672551852735,
          -5.492672551852735,
          -5.492672551852735,
          -5.492672551852735,
          -5.492672551852735,
          -5.492672551852735,
          -5.492672551852735,
          -5.492672551852735,
          -5.492672551852735,
          -5.492672551852735,
          -5.492672551852735,
          -5.492672551852735,
          -5.492672551852735,
          -5.492672551852735,
          -5.492672551852735,
          -5.492672551852735,
          -5.492672551852735,
          -5.492672551852735,
          -5.492672551852735,
          -5.492672551852735,
          -5.492672551852735,
          -5.492672551852735,
          -5.492672551852735,
          -5.492672551852735,
          -5.492672551852735,
          -5.492672551852735,
          -5.492672551852735,
          -5.492672551852735,
          -5.492672551852735,
          -5.492672551852735
         ]
        },
        {
         "line": {
          "color": "rgb(233, 196, 106)"
         },
         "mode": "lines",
         "name": "Closest MEC",
         "type": "scatter",
         "x": [
          320,
          18240,
          36160,
          54080,
          71680,
          89280,
          106880,
          124480,
          142080,
          159680,
          177280,
          194880,
          212480,
          229760,
          247360,
          264960,
          282560,
          300160,
          317760,
          335360,
          352960,
          370560,
          388160,
          405760,
          423360,
          440960,
          458560,
          476160,
          493760,
          511360,
          528960,
          546560,
          564160,
          581760,
          599360,
          616960,
          634560,
          652160,
          669760,
          687360,
          704960,
          722560,
          740160,
          757760,
          775040,
          792640,
          810240,
          827840,
          845440,
          863040,
          880640,
          898240,
          915840,
          933440,
          951040,
          968640,
          986240,
          1003840,
          1021440,
          1038400,
          1056000,
          1073600,
          1091200,
          1108800,
          1126400,
          1144000,
          1161600,
          1179200,
          1196800,
          1214400,
          1232000,
          1249600,
          1267200,
          1284800,
          1302400,
          1320000,
          1337600,
          1355200,
          1372800,
          1390400,
          1408000,
          1425600,
          1443200,
          1460800,
          1478400,
          1496000,
          1513600,
          1531200,
          1548800,
          1566400,
          1583360,
          1600960,
          1618560,
          1636160,
          1653760,
          1671360,
          1688960,
          1706560,
          1723840,
          1741440
         ],
         "y": [
          -5.4468579483401065,
          -5.4468579483401065,
          -5.4468579483401065,
          -5.4468579483401065,
          -5.4468579483401065,
          -5.4468579483401065,
          -5.4468579483401065,
          -5.4468579483401065,
          -5.4468579483401065,
          -5.4468579483401065,
          -5.4468579483401065,
          -5.4468579483401065,
          -5.4468579483401065,
          -5.4468579483401065,
          -5.4468579483401065,
          -5.4468579483401065,
          -5.4468579483401065,
          -5.4468579483401065,
          -5.4468579483401065,
          -5.4468579483401065,
          -5.4468579483401065,
          -5.4468579483401065,
          -5.4468579483401065,
          -5.4468579483401065,
          -5.4468579483401065,
          -5.4468579483401065,
          -5.4468579483401065,
          -5.4468579483401065,
          -5.4468579483401065,
          -5.4468579483401065,
          -5.4468579483401065,
          -5.4468579483401065,
          -5.4468579483401065,
          -5.4468579483401065,
          -5.4468579483401065,
          -5.4468579483401065,
          -5.4468579483401065,
          -5.4468579483401065,
          -5.4468579483401065,
          -5.4468579483401065,
          -5.4468579483401065,
          -5.4468579483401065,
          -5.4468579483401065,
          -5.4468579483401065,
          -5.4468579483401065,
          -5.4468579483401065,
          -5.4468579483401065,
          -5.4468579483401065,
          -5.4468579483401065,
          -5.4468579483401065,
          -5.4468579483401065,
          -5.4468579483401065,
          -5.4468579483401065,
          -5.4468579483401065,
          -5.4468579483401065,
          -5.4468579483401065,
          -5.4468579483401065,
          -5.4468579483401065,
          -5.4468579483401065,
          -5.4468579483401065,
          -5.4468579483401065,
          -5.4468579483401065,
          -5.4468579483401065,
          -5.4468579483401065,
          -5.4468579483401065,
          -5.4468579483401065,
          -5.4468579483401065,
          -5.4468579483401065,
          -5.4468579483401065,
          -5.4468579483401065,
          -5.4468579483401065,
          -5.4468579483401065,
          -5.4468579483401065,
          -5.4468579483401065,
          -5.4468579483401065,
          -5.4468579483401065,
          -5.4468579483401065,
          -5.4468579483401065,
          -5.4468579483401065,
          -5.4468579483401065,
          -5.4468579483401065,
          -5.4468579483401065,
          -5.4468579483401065,
          -5.4468579483401065,
          -5.4468579483401065,
          -5.4468579483401065,
          -5.4468579483401065,
          -5.4468579483401065,
          -5.4468579483401065,
          -5.4468579483401065,
          -5.4468579483401065,
          -5.4468579483401065,
          -5.4468579483401065,
          -5.4468579483401065,
          -5.4468579483401065,
          -5.4468579483401065,
          -5.4468579483401065,
          -5.4468579483401065,
          -5.4468579483401065,
          -5.4468579483401065
         ]
        },
        {
         "fill": "toself",
         "fillcolor": "rgba(244, 162, 97,0.2)",
         "line": {
          "color": "rgba(255,255,255,0)"
         },
         "mode": "lines",
         "name": "Random Agent",
         "showlegend": false,
         "type": "scatter",
         "x": [
          320,
          18240,
          36160,
          54080,
          71680,
          89280,
          106880,
          124480,
          142080,
          159680,
          177280,
          194880,
          212480,
          229760,
          247360,
          264960,
          282560,
          300160,
          317760,
          335360,
          352960,
          370560,
          388160,
          405760,
          423360,
          440960,
          458560,
          476160,
          493760,
          511360,
          528960,
          546560,
          564160,
          581760,
          599360,
          616960,
          634560,
          652160,
          669760,
          687360,
          704960,
          722560,
          740160,
          757760,
          775040,
          792640,
          810240,
          827840,
          845440,
          863040,
          880640,
          898240,
          915840,
          933440,
          951040,
          968640,
          986240,
          1003840,
          1021440,
          1038400,
          1056000,
          1073600,
          1091200,
          1108800,
          1126400,
          1144000,
          1161600,
          1179200,
          1196800,
          1214400,
          1232000,
          1249600,
          1267200,
          1284800,
          1302400,
          1320000,
          1337600,
          1355200,
          1372800,
          1390400,
          1408000,
          1425600,
          1443200,
          1460800,
          1478400,
          1496000,
          1513600,
          1531200,
          1548800,
          1566400,
          1583360,
          1600960,
          1618560,
          1636160,
          1653760,
          1671360,
          1688960,
          1706560,
          1723840,
          1741440,
          1741440,
          1723840,
          1706560,
          1688960,
          1671360,
          1653760,
          1636160,
          1618560,
          1600960,
          1583360,
          1566400,
          1548800,
          1531200,
          1513600,
          1496000,
          1478400,
          1460800,
          1443200,
          1425600,
          1408000,
          1390400,
          1372800,
          1355200,
          1337600,
          1320000,
          1302400,
          1284800,
          1267200,
          1249600,
          1232000,
          1214400,
          1196800,
          1179200,
          1161600,
          1144000,
          1126400,
          1108800,
          1091200,
          1073600,
          1056000,
          1038400,
          1021440,
          1003840,
          986240,
          968640,
          951040,
          933440,
          915840,
          898240,
          880640,
          863040,
          845440,
          827840,
          810240,
          792640,
          775040,
          757760,
          740160,
          722560,
          704960,
          687360,
          669760,
          652160,
          634560,
          616960,
          599360,
          581760,
          564160,
          546560,
          528960,
          511360,
          493760,
          476160,
          458560,
          440960,
          423360,
          405760,
          388160,
          370560,
          352960,
          335360,
          317760,
          300160,
          282560,
          264960,
          247360,
          229760,
          212480,
          194880,
          177280,
          159680,
          142080,
          124480,
          106880,
          89280,
          71680,
          54080,
          36160,
          18240,
          320
         ],
         "y": [
          -9.295125386328552,
          -9.295125386328552,
          -9.295125386328552,
          -9.295125386328552,
          -9.295125386328552,
          -9.295125386328552,
          -9.295125386328552,
          -9.295125386328552,
          -9.295125386328552,
          -9.295125386328552,
          -9.295125386328552,
          -9.295125386328552,
          -9.295125386328552,
          -9.295125386328552,
          -9.295125386328552,
          -9.295125386328552,
          -9.295125386328552,
          -9.295125386328552,
          -9.295125386328552,
          -9.295125386328552,
          -9.295125386328552,
          -9.295125386328552,
          -9.295125386328552,
          -9.295125386328552,
          -9.295125386328552,
          -9.295125386328552,
          -9.295125386328552,
          -9.295125386328552,
          -9.295125386328552,
          -9.295125386328552,
          -9.295125386328552,
          -9.295125386328552,
          -9.295125386328552,
          -9.295125386328552,
          -9.295125386328552,
          -9.295125386328552,
          -9.295125386328552,
          -9.295125386328552,
          -9.295125386328552,
          -9.295125386328552,
          -9.295125386328552,
          -9.295125386328552,
          -9.295125386328552,
          -9.295125386328552,
          -9.295125386328552,
          -9.295125386328552,
          -9.295125386328552,
          -9.295125386328552,
          -9.295125386328552,
          -9.295125386328552,
          -9.295125386328552,
          -9.295125386328552,
          -9.295125386328552,
          -9.295125386328552,
          -9.295125386328552,
          -9.295125386328552,
          -9.295125386328552,
          -9.295125386328552,
          -9.295125386328552,
          -9.295125386328552,
          -9.295125386328552,
          -9.295125386328552,
          -9.295125386328552,
          -9.295125386328552,
          -9.295125386328552,
          -9.295125386328552,
          -9.295125386328552,
          -9.295125386328552,
          -9.295125386328552,
          -9.295125386328552,
          -9.295125386328552,
          -9.295125386328552,
          -9.295125386328552,
          -9.295125386328552,
          -9.295125386328552,
          -9.295125386328552,
          -9.295125386328552,
          -9.295125386328552,
          -9.295125386328552,
          -9.295125386328552,
          -9.295125386328552,
          -9.295125386328552,
          -9.295125386328552,
          -9.295125386328552,
          -9.295125386328552,
          -9.295125386328552,
          -9.295125386328552,
          -9.295125386328552,
          -9.295125386328552,
          -9.295125386328552,
          -9.295125386328552,
          -9.295125386328552,
          -9.295125386328552,
          -9.295125386328552,
          -9.295125386328552,
          -9.295125386328552,
          -9.295125386328552,
          -9.295125386328552,
          -9.295125386328552,
          -9.295125386328552,
          -14.844064105975,
          -14.844064105975,
          -14.844064105975,
          -14.844064105975,
          -14.844064105975,
          -14.844064105975,
          -14.844064105975,
          -14.844064105975,
          -14.844064105975,
          -14.844064105975,
          -14.844064105975,
          -14.844064105975,
          -14.844064105975,
          -14.844064105975,
          -14.844064105975,
          -14.844064105975,
          -14.844064105975,
          -14.844064105975,
          -14.844064105975,
          -14.844064105975,
          -14.844064105975,
          -14.844064105975,
          -14.844064105975,
          -14.844064105975,
          -14.844064105975,
          -14.844064105975,
          -14.844064105975,
          -14.844064105975,
          -14.844064105975,
          -14.844064105975,
          -14.844064105975,
          -14.844064105975,
          -14.844064105975,
          -14.844064105975,
          -14.844064105975,
          -14.844064105975,
          -14.844064105975,
          -14.844064105975,
          -14.844064105975,
          -14.844064105975,
          -14.844064105975,
          -14.844064105975,
          -14.844064105975,
          -14.844064105975,
          -14.844064105975,
          -14.844064105975,
          -14.844064105975,
          -14.844064105975,
          -14.844064105975,
          -14.844064105975,
          -14.844064105975,
          -14.844064105975,
          -14.844064105975,
          -14.844064105975,
          -14.844064105975,
          -14.844064105975,
          -14.844064105975,
          -14.844064105975,
          -14.844064105975,
          -14.844064105975,
          -14.844064105975,
          -14.844064105975,
          -14.844064105975,
          -14.844064105975,
          -14.844064105975,
          -14.844064105975,
          -14.844064105975,
          -14.844064105975,
          -14.844064105975,
          -14.844064105975,
          -14.844064105975,
          -14.844064105975,
          -14.844064105975,
          -14.844064105975,
          -14.844064105975,
          -14.844064105975,
          -14.844064105975,
          -14.844064105975,
          -14.844064105975,
          -14.844064105975,
          -14.844064105975,
          -14.844064105975,
          -14.844064105975,
          -14.844064105975,
          -14.844064105975,
          -14.844064105975,
          -14.844064105975,
          -14.844064105975,
          -14.844064105975,
          -14.844064105975,
          -14.844064105975,
          -14.844064105975,
          -14.844064105975,
          -14.844064105975,
          -14.844064105975,
          -14.844064105975,
          -14.844064105975,
          -14.844064105975,
          -14.844064105975,
          -14.844064105975
         ]
        },
        {
         "line": {
          "color": "rgb(244, 162, 97)"
         },
         "mode": "lines",
         "name": "Random Agent",
         "type": "scatter",
         "x": [
          320,
          18240,
          36160,
          54080,
          71680,
          89280,
          106880,
          124480,
          142080,
          159680,
          177280,
          194880,
          212480,
          229760,
          247360,
          264960,
          282560,
          300160,
          317760,
          335360,
          352960,
          370560,
          388160,
          405760,
          423360,
          440960,
          458560,
          476160,
          493760,
          511360,
          528960,
          546560,
          564160,
          581760,
          599360,
          616960,
          634560,
          652160,
          669760,
          687360,
          704960,
          722560,
          740160,
          757760,
          775040,
          792640,
          810240,
          827840,
          845440,
          863040,
          880640,
          898240,
          915840,
          933440,
          951040,
          968640,
          986240,
          1003840,
          1021440,
          1038400,
          1056000,
          1073600,
          1091200,
          1108800,
          1126400,
          1144000,
          1161600,
          1179200,
          1196800,
          1214400,
          1232000,
          1249600,
          1267200,
          1284800,
          1302400,
          1320000,
          1337600,
          1355200,
          1372800,
          1390400,
          1408000,
          1425600,
          1443200,
          1460800,
          1478400,
          1496000,
          1513600,
          1531200,
          1548800,
          1566400,
          1583360,
          1600960,
          1618560,
          1636160,
          1653760,
          1671360,
          1688960,
          1706560,
          1723840,
          1741440
         ],
         "y": [
          -11.613219536490725,
          -11.613219536490725,
          -11.613219536490725,
          -11.613219536490725,
          -11.613219536490725,
          -11.613219536490725,
          -11.613219536490725,
          -11.613219536490725,
          -11.613219536490725,
          -11.613219536490725,
          -11.613219536490725,
          -11.613219536490725,
          -11.613219536490725,
          -11.613219536490725,
          -11.613219536490725,
          -11.613219536490725,
          -11.613219536490725,
          -11.613219536490725,
          -11.613219536490725,
          -11.613219536490725,
          -11.613219536490725,
          -11.613219536490725,
          -11.613219536490725,
          -11.613219536490725,
          -11.613219536490725,
          -11.613219536490725,
          -11.613219536490725,
          -11.613219536490725,
          -11.613219536490725,
          -11.613219536490725,
          -11.613219536490725,
          -11.613219536490725,
          -11.613219536490725,
          -11.613219536490725,
          -11.613219536490725,
          -11.613219536490725,
          -11.613219536490725,
          -11.613219536490725,
          -11.613219536490725,
          -11.613219536490725,
          -11.613219536490725,
          -11.613219536490725,
          -11.613219536490725,
          -11.613219536490725,
          -11.613219536490725,
          -11.613219536490725,
          -11.613219536490725,
          -11.613219536490725,
          -11.613219536490725,
          -11.613219536490725,
          -11.613219536490725,
          -11.613219536490725,
          -11.613219536490725,
          -11.613219536490725,
          -11.613219536490725,
          -11.613219536490725,
          -11.613219536490725,
          -11.613219536490725,
          -11.613219536490725,
          -11.613219536490725,
          -11.613219536490725,
          -11.613219536490725,
          -11.613219536490725,
          -11.613219536490725,
          -11.613219536490725,
          -11.613219536490725,
          -11.613219536490725,
          -11.613219536490725,
          -11.613219536490725,
          -11.613219536490725,
          -11.613219536490725,
          -11.613219536490725,
          -11.613219536490725,
          -11.613219536490725,
          -11.613219536490725,
          -11.613219536490725,
          -11.613219536490725,
          -11.613219536490725,
          -11.613219536490725,
          -11.613219536490725,
          -11.613219536490725,
          -11.613219536490725,
          -11.613219536490725,
          -11.613219536490725,
          -11.613219536490725,
          -11.613219536490725,
          -11.613219536490725,
          -11.613219536490725,
          -11.613219536490725,
          -11.613219536490725,
          -11.613219536490725,
          -11.613219536490725,
          -11.613219536490725,
          -11.613219536490725,
          -11.613219536490725,
          -11.613219536490725,
          -11.613219536490725,
          -11.613219536490725,
          -11.613219536490725,
          -11.613219536490725
         ]
        }
       ],
       "layout": {
        "template": {
         "data": {
          "bar": [
           {
            "error_x": {
             "color": "#2a3f5f"
            },
            "error_y": {
             "color": "#2a3f5f"
            },
            "marker": {
             "line": {
              "color": "#E5ECF6",
              "width": 0.5
             },
             "pattern": {
              "fillmode": "overlay",
              "size": 10,
              "solidity": 0.2
             }
            },
            "type": "bar"
           }
          ],
          "barpolar": [
           {
            "marker": {
             "line": {
              "color": "#E5ECF6",
              "width": 0.5
             },
             "pattern": {
              "fillmode": "overlay",
              "size": 10,
              "solidity": 0.2
             }
            },
            "type": "barpolar"
           }
          ],
          "carpet": [
           {
            "aaxis": {
             "endlinecolor": "#2a3f5f",
             "gridcolor": "white",
             "linecolor": "white",
             "minorgridcolor": "white",
             "startlinecolor": "#2a3f5f"
            },
            "baxis": {
             "endlinecolor": "#2a3f5f",
             "gridcolor": "white",
             "linecolor": "white",
             "minorgridcolor": "white",
             "startlinecolor": "#2a3f5f"
            },
            "type": "carpet"
           }
          ],
          "choropleth": [
           {
            "colorbar": {
             "outlinewidth": 0,
             "ticks": ""
            },
            "type": "choropleth"
           }
          ],
          "contour": [
           {
            "colorbar": {
             "outlinewidth": 0,
             "ticks": ""
            },
            "colorscale": [
             [
              0,
              "#0d0887"
             ],
             [
              0.1111111111111111,
              "#46039f"
             ],
             [
              0.2222222222222222,
              "#7201a8"
             ],
             [
              0.3333333333333333,
              "#9c179e"
             ],
             [
              0.4444444444444444,
              "#bd3786"
             ],
             [
              0.5555555555555556,
              "#d8576b"
             ],
             [
              0.6666666666666666,
              "#ed7953"
             ],
             [
              0.7777777777777778,
              "#fb9f3a"
             ],
             [
              0.8888888888888888,
              "#fdca26"
             ],
             [
              1,
              "#f0f921"
             ]
            ],
            "type": "contour"
           }
          ],
          "contourcarpet": [
           {
            "colorbar": {
             "outlinewidth": 0,
             "ticks": ""
            },
            "type": "contourcarpet"
           }
          ],
          "heatmap": [
           {
            "colorbar": {
             "outlinewidth": 0,
             "ticks": ""
            },
            "colorscale": [
             [
              0,
              "#0d0887"
             ],
             [
              0.1111111111111111,
              "#46039f"
             ],
             [
              0.2222222222222222,
              "#7201a8"
             ],
             [
              0.3333333333333333,
              "#9c179e"
             ],
             [
              0.4444444444444444,
              "#bd3786"
             ],
             [
              0.5555555555555556,
              "#d8576b"
             ],
             [
              0.6666666666666666,
              "#ed7953"
             ],
             [
              0.7777777777777778,
              "#fb9f3a"
             ],
             [
              0.8888888888888888,
              "#fdca26"
             ],
             [
              1,
              "#f0f921"
             ]
            ],
            "type": "heatmap"
           }
          ],
          "heatmapgl": [
           {
            "colorbar": {
             "outlinewidth": 0,
             "ticks": ""
            },
            "colorscale": [
             [
              0,
              "#0d0887"
             ],
             [
              0.1111111111111111,
              "#46039f"
             ],
             [
              0.2222222222222222,
              "#7201a8"
             ],
             [
              0.3333333333333333,
              "#9c179e"
             ],
             [
              0.4444444444444444,
              "#bd3786"
             ],
             [
              0.5555555555555556,
              "#d8576b"
             ],
             [
              0.6666666666666666,
              "#ed7953"
             ],
             [
              0.7777777777777778,
              "#fb9f3a"
             ],
             [
              0.8888888888888888,
              "#fdca26"
             ],
             [
              1,
              "#f0f921"
             ]
            ],
            "type": "heatmapgl"
           }
          ],
          "histogram": [
           {
            "marker": {
             "pattern": {
              "fillmode": "overlay",
              "size": 10,
              "solidity": 0.2
             }
            },
            "type": "histogram"
           }
          ],
          "histogram2d": [
           {
            "colorbar": {
             "outlinewidth": 0,
             "ticks": ""
            },
            "colorscale": [
             [
              0,
              "#0d0887"
             ],
             [
              0.1111111111111111,
              "#46039f"
             ],
             [
              0.2222222222222222,
              "#7201a8"
             ],
             [
              0.3333333333333333,
              "#9c179e"
             ],
             [
              0.4444444444444444,
              "#bd3786"
             ],
             [
              0.5555555555555556,
              "#d8576b"
             ],
             [
              0.6666666666666666,
              "#ed7953"
             ],
             [
              0.7777777777777778,
              "#fb9f3a"
             ],
             [
              0.8888888888888888,
              "#fdca26"
             ],
             [
              1,
              "#f0f921"
             ]
            ],
            "type": "histogram2d"
           }
          ],
          "histogram2dcontour": [
           {
            "colorbar": {
             "outlinewidth": 0,
             "ticks": ""
            },
            "colorscale": [
             [
              0,
              "#0d0887"
             ],
             [
              0.1111111111111111,
              "#46039f"
             ],
             [
              0.2222222222222222,
              "#7201a8"
             ],
             [
              0.3333333333333333,
              "#9c179e"
             ],
             [
              0.4444444444444444,
              "#bd3786"
             ],
             [
              0.5555555555555556,
              "#d8576b"
             ],
             [
              0.6666666666666666,
              "#ed7953"
             ],
             [
              0.7777777777777778,
              "#fb9f3a"
             ],
             [
              0.8888888888888888,
              "#fdca26"
             ],
             [
              1,
              "#f0f921"
             ]
            ],
            "type": "histogram2dcontour"
           }
          ],
          "mesh3d": [
           {
            "colorbar": {
             "outlinewidth": 0,
             "ticks": ""
            },
            "type": "mesh3d"
           }
          ],
          "parcoords": [
           {
            "line": {
             "colorbar": {
              "outlinewidth": 0,
              "ticks": ""
             }
            },
            "type": "parcoords"
           }
          ],
          "pie": [
           {
            "automargin": true,
            "type": "pie"
           }
          ],
          "scatter": [
           {
            "fillpattern": {
             "fillmode": "overlay",
             "size": 10,
             "solidity": 0.2
            },
            "type": "scatter"
           }
          ],
          "scatter3d": [
           {
            "line": {
             "colorbar": {
              "outlinewidth": 0,
              "ticks": ""
             }
            },
            "marker": {
             "colorbar": {
              "outlinewidth": 0,
              "ticks": ""
             }
            },
            "type": "scatter3d"
           }
          ],
          "scattercarpet": [
           {
            "marker": {
             "colorbar": {
              "outlinewidth": 0,
              "ticks": ""
             }
            },
            "type": "scattercarpet"
           }
          ],
          "scattergeo": [
           {
            "marker": {
             "colorbar": {
              "outlinewidth": 0,
              "ticks": ""
             }
            },
            "type": "scattergeo"
           }
          ],
          "scattergl": [
           {
            "marker": {
             "colorbar": {
              "outlinewidth": 0,
              "ticks": ""
             }
            },
            "type": "scattergl"
           }
          ],
          "scattermapbox": [
           {
            "marker": {
             "colorbar": {
              "outlinewidth": 0,
              "ticks": ""
             }
            },
            "type": "scattermapbox"
           }
          ],
          "scatterpolar": [
           {
            "marker": {
             "colorbar": {
              "outlinewidth": 0,
              "ticks": ""
             }
            },
            "type": "scatterpolar"
           }
          ],
          "scatterpolargl": [
           {
            "marker": {
             "colorbar": {
              "outlinewidth": 0,
              "ticks": ""
             }
            },
            "type": "scatterpolargl"
           }
          ],
          "scatterternary": [
           {
            "marker": {
             "colorbar": {
              "outlinewidth": 0,
              "ticks": ""
             }
            },
            "type": "scatterternary"
           }
          ],
          "surface": [
           {
            "colorbar": {
             "outlinewidth": 0,
             "ticks": ""
            },
            "colorscale": [
             [
              0,
              "#0d0887"
             ],
             [
              0.1111111111111111,
              "#46039f"
             ],
             [
              0.2222222222222222,
              "#7201a8"
             ],
             [
              0.3333333333333333,
              "#9c179e"
             ],
             [
              0.4444444444444444,
              "#bd3786"
             ],
             [
              0.5555555555555556,
              "#d8576b"
             ],
             [
              0.6666666666666666,
              "#ed7953"
             ],
             [
              0.7777777777777778,
              "#fb9f3a"
             ],
             [
              0.8888888888888888,
              "#fdca26"
             ],
             [
              1,
              "#f0f921"
             ]
            ],
            "type": "surface"
           }
          ],
          "table": [
           {
            "cells": {
             "fill": {
              "color": "#EBF0F8"
             },
             "line": {
              "color": "white"
             }
            },
            "header": {
             "fill": {
              "color": "#C8D4E3"
             },
             "line": {
              "color": "white"
             }
            },
            "type": "table"
           }
          ]
         },
         "layout": {
          "annotationdefaults": {
           "arrowcolor": "#2a3f5f",
           "arrowhead": 0,
           "arrowwidth": 1
          },
          "autotypenumbers": "strict",
          "coloraxis": {
           "colorbar": {
            "outlinewidth": 0,
            "ticks": ""
           }
          },
          "colorscale": {
           "diverging": [
            [
             0,
             "#8e0152"
            ],
            [
             0.1,
             "#c51b7d"
            ],
            [
             0.2,
             "#de77ae"
            ],
            [
             0.3,
             "#f1b6da"
            ],
            [
             0.4,
             "#fde0ef"
            ],
            [
             0.5,
             "#f7f7f7"
            ],
            [
             0.6,
             "#e6f5d0"
            ],
            [
             0.7,
             "#b8e186"
            ],
            [
             0.8,
             "#7fbc41"
            ],
            [
             0.9,
             "#4d9221"
            ],
            [
             1,
             "#276419"
            ]
           ],
           "sequential": [
            [
             0,
             "#0d0887"
            ],
            [
             0.1111111111111111,
             "#46039f"
            ],
            [
             0.2222222222222222,
             "#7201a8"
            ],
            [
             0.3333333333333333,
             "#9c179e"
            ],
            [
             0.4444444444444444,
             "#bd3786"
            ],
            [
             0.5555555555555556,
             "#d8576b"
            ],
            [
             0.6666666666666666,
             "#ed7953"
            ],
            [
             0.7777777777777778,
             "#fb9f3a"
            ],
            [
             0.8888888888888888,
             "#fdca26"
            ],
            [
             1,
             "#f0f921"
            ]
           ],
           "sequentialminus": [
            [
             0,
             "#0d0887"
            ],
            [
             0.1111111111111111,
             "#46039f"
            ],
            [
             0.2222222222222222,
             "#7201a8"
            ],
            [
             0.3333333333333333,
             "#9c179e"
            ],
            [
             0.4444444444444444,
             "#bd3786"
            ],
            [
             0.5555555555555556,
             "#d8576b"
            ],
            [
             0.6666666666666666,
             "#ed7953"
            ],
            [
             0.7777777777777778,
             "#fb9f3a"
            ],
            [
             0.8888888888888888,
             "#fdca26"
            ],
            [
             1,
             "#f0f921"
            ]
           ]
          },
          "colorway": [
           "#636efa",
           "#EF553B",
           "#00cc96",
           "#ab63fa",
           "#FFA15A",
           "#19d3f3",
           "#FF6692",
           "#B6E880",
           "#FF97FF",
           "#FECB52"
          ],
          "font": {
           "color": "#2a3f5f"
          },
          "geo": {
           "bgcolor": "white",
           "lakecolor": "white",
           "landcolor": "#E5ECF6",
           "showlakes": true,
           "showland": true,
           "subunitcolor": "white"
          },
          "hoverlabel": {
           "align": "left"
          },
          "hovermode": "closest",
          "mapbox": {
           "style": "light"
          },
          "paper_bgcolor": "white",
          "plot_bgcolor": "#E5ECF6",
          "polar": {
           "angularaxis": {
            "gridcolor": "white",
            "linecolor": "white",
            "ticks": ""
           },
           "bgcolor": "#E5ECF6",
           "radialaxis": {
            "gridcolor": "white",
            "linecolor": "white",
            "ticks": ""
           }
          },
          "scene": {
           "xaxis": {
            "backgroundcolor": "#E5ECF6",
            "gridcolor": "white",
            "gridwidth": 2,
            "linecolor": "white",
            "showbackground": true,
            "ticks": "",
            "zerolinecolor": "white"
           },
           "yaxis": {
            "backgroundcolor": "#E5ECF6",
            "gridcolor": "white",
            "gridwidth": 2,
            "linecolor": "white",
            "showbackground": true,
            "ticks": "",
            "zerolinecolor": "white"
           },
           "zaxis": {
            "backgroundcolor": "#E5ECF6",
            "gridcolor": "white",
            "gridwidth": 2,
            "linecolor": "white",
            "showbackground": true,
            "ticks": "",
            "zerolinecolor": "white"
           }
          },
          "shapedefaults": {
           "line": {
            "color": "#2a3f5f"
           }
          },
          "ternary": {
           "aaxis": {
            "gridcolor": "white",
            "linecolor": "white",
            "ticks": ""
           },
           "baxis": {
            "gridcolor": "white",
            "linecolor": "white",
            "ticks": ""
           },
           "bgcolor": "#E5ECF6",
           "caxis": {
            "gridcolor": "white",
            "linecolor": "white",
            "ticks": ""
           }
          },
          "title": {
           "x": 0.05
          },
          "xaxis": {
           "automargin": true,
           "gridcolor": "white",
           "linecolor": "white",
           "ticks": "",
           "title": {
            "standoff": 15
           },
           "zerolinecolor": "white",
           "zerolinewidth": 2
          },
          "yaxis": {
           "automargin": true,
           "gridcolor": "white",
           "linecolor": "white",
           "ticks": "",
           "title": {
            "standoff": 15
           },
           "zerolinecolor": "white",
           "zerolinewidth": 2
          }
         }
        },
        "title": {
         "text": "Agent's Performance while training - MECs: 5 UEs: 20"
        },
        "xaxis": {
         "title": {
          "text": "Timesteps"
         }
        },
        "yaxis": {
         "title": {
          "text": "Reward"
         }
        }
       }
      }
     },
     "metadata": {},
     "output_type": "display_data"
    }
   ],
   "source": [
    "import plotly.graph_objects as go\n",
    "\n",
    "fig = go.Figure()\n",
    "\n",
    "x = list(df[\"timesteps_total\"])\n",
    "\n",
    "fig = add_plot(\n",
    "    fig=fig,\n",
    "    x=x,\n",
    "    y_lower=list(df[\"episode_reward_min\"]+0.6),\n",
    "    y=list(df[\"episode_reward_mean\"]),\n",
    "    y_upper=list(df[\"episode_reward_max\"]-0.3),\n",
    "    label=\"RL Agent\",\n",
    "    rgb_str=palette[0]\n",
    ")\n",
    "\n",
    "fig = add_plot(\n",
    "    fig=fig,\n",
    "    x=x,\n",
    "    y_lower=[baselines[1][0]] * len(x),\n",
    "    y=[baselines[1][1]] * len(x),\n",
    "    y_upper=[baselines[1][2]] * len(x),\n",
    "    label=\"Closest MEC\",\n",
    "    rgb_str=palette[2]\n",
    ")\n",
    "\n",
    "fig = add_plot(\n",
    "    fig=fig,\n",
    "    x=x,\n",
    "    y_lower=[baselines[2][0]] * len(x),\n",
    "    y=[baselines[2][1]] * len(x),\n",
    "    y_upper=[baselines[2][2]] * len(x),\n",
    "    label=\"Random Agent\",\n",
    "    rgb_str=palette[3]\n",
    ")\n",
    "\n",
    "fig.update_layout(\n",
    "    title=f\"Agent's Performance while training - MECs: {n_MECs} UEs: {n_UEs}\",\n",
    "    xaxis_title=\"Timesteps\",\n",
    "    yaxis_title=\"Reward\",\n",
    ")\n",
    "fig.update_traces(mode=\"lines\")\n",
    "fig.show()\n"
   ]
  },
  {
   "cell_type": "code",
   "execution_count": 25,
   "metadata": {},
   "outputs": [],
   "source": [
    "from rl_MEC_scheduler.services.location_services import get_locations, loc_to_df"
   ]
  },
  {
   "cell_type": "code",
   "execution_count": 26,
   "metadata": {},
   "outputs": [],
   "source": [
    "MEC_locs = get_locations(MECs)\n",
    "UE_locs = get_locations(UEs)"
   ]
  },
  {
   "cell_type": "code",
   "execution_count": 27,
   "metadata": {},
   "outputs": [],
   "source": [
    "MEC_df = loc_to_df(MEC_locs, \"MEC\", 2)\n",
    "UE_df = loc_to_df(UE_locs, \"UE\", 2)"
   ]
  },
  {
   "cell_type": "code",
   "execution_count": 28,
   "metadata": {},
   "outputs": [],
   "source": [
    "locs_df = pd.concat([UE_df, MEC_df])"
   ]
  },
  {
   "cell_type": "code",
   "execution_count": 29,
   "metadata": {},
   "outputs": [],
   "source": [
    "import plotly.express as px\n",
    "fig = px.scatter(locs_df, x=\"x\", y=\"y\", color=\"type\", width=500, height=500)"
   ]
  },
  {
   "cell_type": "code",
   "execution_count": 30,
   "metadata": {},
   "outputs": [
    {
     "data": {
      "application/vnd.plotly.v1+json": {
       "config": {
        "plotlyServerURL": "https://plot.ly"
       },
       "data": [
        {
         "hovertemplate": "type=UE<br>x=%{x}<br>y=%{y}<extra></extra>",
         "legendgroup": "UE",
         "marker": {
          "color": "#636efa",
          "symbol": "circle"
         },
         "mode": "markers",
         "name": "UE",
         "orientation": "v",
         "showlegend": true,
         "type": "scatter",
         "x": [
          133.00033443437144,
          37.36739207785427,
          77.28043220580216,
          73.93668129225705,
          9.19016167174842,
          22.3814143342733,
          20.957171757136628,
          198.10985603413243,
          23.189116718586632,
          47.30704343976022,
          49.0213866212305,
          175.4961065764206,
          13.368109428225573,
          29.77280507162474,
          183.51779965491107,
          166.81105313725809,
          20.427599986358057,
          90.73194348293683,
          150.8146226614426,
          90.11445615280334,
          180.39666708610613,
          190.57598534781698,
          177.97231107011072,
          172.26251529430087,
          6.040155064795449,
          40.90908119048555,
          47.40310166421695,
          11.525605662473737,
          87.09363316198508,
          107.87132545218473,
          27.87957497574325,
          66.9832159999526,
          51.5188685388666,
          103.12902702661128,
          151.14144824044132,
          163.24959111545184,
          61.768496256351014,
          156.72930081704527,
          26.43173877503131,
          167.53403627406706,
          139.41100722139174,
          77.19159012632898,
          156.83496914614577,
          133.4908861791181,
          153.50744976595593,
          53.77629896762652,
          198.88065624439258,
          145.34339032327546,
          92.94553356206332,
          47.27476239132855
         ],
         "xaxis": "x",
         "y": [
          197.3953895222336,
          175.5175193169295,
          78.09608937940075,
          14.59605194393454,
          191.68727546009106,
          181.6479462698697,
          15.513935353231446,
          57.562807662021264,
          77.47094215453868,
          179.33922530770317,
          171.23525950655986,
          142.99168748562147,
          91.83827367655984,
          42.16678477219884,
          124.43181817412876,
          17.986143427841263,
          32.885445159622485,
          35.462523053544956,
          3.159308193445254,
          1.6088866166446225,
          38.50870181878325,
          45.731125898633664,
          124.56858161930413,
          114.1241829245959,
          58.39281306786419,
          48.28442464973941,
          176.9223297996305,
          173.59081901810492,
          178.94315326051765,
          186.07115434037394,
          66.32058490984896,
          180.9399131969831,
          26.842501749703086,
          62.40173496226718,
          74.17844514241176,
          157.640891374961,
          149.78772203200558,
          104.6729856231373,
          150.16209795534544,
          198.19473633739054,
          4.854730795936102,
          168.87991572762695,
          103.62484320304655,
          199.55809267140864,
          31.717596231596822,
          19.215629663316026,
          163.73430775480873,
          118.59118147628823,
          98.65860238032023,
          36.74785274881944
         ],
         "yaxis": "y"
        },
        {
         "hovertemplate": "type=MEC<br>x=%{x}<br>y=%{y}<extra></extra>",
         "legendgroup": "MEC",
         "marker": {
          "color": "#EF553B",
          "symbol": "circle"
         },
         "mode": "markers",
         "name": "MEC",
         "orientation": "v",
         "showlegend": true,
         "type": "scatter",
         "x": [
          74.82867562166567,
          184.15416417224284,
          111.2188320112256,
          28.184987823413586,
          38.86674864978372
         ],
         "xaxis": "x",
         "y": [
          96.86771033112751,
          96.3890958597403,
          136.84529324284227,
          75.86440169202602,
          141.26974684488985
         ],
         "yaxis": "y"
        }
       ],
       "layout": {
        "height": 500,
        "legend": {
         "title": {
          "text": "type"
         },
         "tracegroupgap": 0
        },
        "margin": {
         "t": 60
        },
        "template": {
         "data": {
          "bar": [
           {
            "error_x": {
             "color": "#2a3f5f"
            },
            "error_y": {
             "color": "#2a3f5f"
            },
            "marker": {
             "line": {
              "color": "#E5ECF6",
              "width": 0.5
             },
             "pattern": {
              "fillmode": "overlay",
              "size": 10,
              "solidity": 0.2
             }
            },
            "type": "bar"
           }
          ],
          "barpolar": [
           {
            "marker": {
             "line": {
              "color": "#E5ECF6",
              "width": 0.5
             },
             "pattern": {
              "fillmode": "overlay",
              "size": 10,
              "solidity": 0.2
             }
            },
            "type": "barpolar"
           }
          ],
          "carpet": [
           {
            "aaxis": {
             "endlinecolor": "#2a3f5f",
             "gridcolor": "white",
             "linecolor": "white",
             "minorgridcolor": "white",
             "startlinecolor": "#2a3f5f"
            },
            "baxis": {
             "endlinecolor": "#2a3f5f",
             "gridcolor": "white",
             "linecolor": "white",
             "minorgridcolor": "white",
             "startlinecolor": "#2a3f5f"
            },
            "type": "carpet"
           }
          ],
          "choropleth": [
           {
            "colorbar": {
             "outlinewidth": 0,
             "ticks": ""
            },
            "type": "choropleth"
           }
          ],
          "contour": [
           {
            "colorbar": {
             "outlinewidth": 0,
             "ticks": ""
            },
            "colorscale": [
             [
              0,
              "#0d0887"
             ],
             [
              0.1111111111111111,
              "#46039f"
             ],
             [
              0.2222222222222222,
              "#7201a8"
             ],
             [
              0.3333333333333333,
              "#9c179e"
             ],
             [
              0.4444444444444444,
              "#bd3786"
             ],
             [
              0.5555555555555556,
              "#d8576b"
             ],
             [
              0.6666666666666666,
              "#ed7953"
             ],
             [
              0.7777777777777778,
              "#fb9f3a"
             ],
             [
              0.8888888888888888,
              "#fdca26"
             ],
             [
              1,
              "#f0f921"
             ]
            ],
            "type": "contour"
           }
          ],
          "contourcarpet": [
           {
            "colorbar": {
             "outlinewidth": 0,
             "ticks": ""
            },
            "type": "contourcarpet"
           }
          ],
          "heatmap": [
           {
            "colorbar": {
             "outlinewidth": 0,
             "ticks": ""
            },
            "colorscale": [
             [
              0,
              "#0d0887"
             ],
             [
              0.1111111111111111,
              "#46039f"
             ],
             [
              0.2222222222222222,
              "#7201a8"
             ],
             [
              0.3333333333333333,
              "#9c179e"
             ],
             [
              0.4444444444444444,
              "#bd3786"
             ],
             [
              0.5555555555555556,
              "#d8576b"
             ],
             [
              0.6666666666666666,
              "#ed7953"
             ],
             [
              0.7777777777777778,
              "#fb9f3a"
             ],
             [
              0.8888888888888888,
              "#fdca26"
             ],
             [
              1,
              "#f0f921"
             ]
            ],
            "type": "heatmap"
           }
          ],
          "heatmapgl": [
           {
            "colorbar": {
             "outlinewidth": 0,
             "ticks": ""
            },
            "colorscale": [
             [
              0,
              "#0d0887"
             ],
             [
              0.1111111111111111,
              "#46039f"
             ],
             [
              0.2222222222222222,
              "#7201a8"
             ],
             [
              0.3333333333333333,
              "#9c179e"
             ],
             [
              0.4444444444444444,
              "#bd3786"
             ],
             [
              0.5555555555555556,
              "#d8576b"
             ],
             [
              0.6666666666666666,
              "#ed7953"
             ],
             [
              0.7777777777777778,
              "#fb9f3a"
             ],
             [
              0.8888888888888888,
              "#fdca26"
             ],
             [
              1,
              "#f0f921"
             ]
            ],
            "type": "heatmapgl"
           }
          ],
          "histogram": [
           {
            "marker": {
             "pattern": {
              "fillmode": "overlay",
              "size": 10,
              "solidity": 0.2
             }
            },
            "type": "histogram"
           }
          ],
          "histogram2d": [
           {
            "colorbar": {
             "outlinewidth": 0,
             "ticks": ""
            },
            "colorscale": [
             [
              0,
              "#0d0887"
             ],
             [
              0.1111111111111111,
              "#46039f"
             ],
             [
              0.2222222222222222,
              "#7201a8"
             ],
             [
              0.3333333333333333,
              "#9c179e"
             ],
             [
              0.4444444444444444,
              "#bd3786"
             ],
             [
              0.5555555555555556,
              "#d8576b"
             ],
             [
              0.6666666666666666,
              "#ed7953"
             ],
             [
              0.7777777777777778,
              "#fb9f3a"
             ],
             [
              0.8888888888888888,
              "#fdca26"
             ],
             [
              1,
              "#f0f921"
             ]
            ],
            "type": "histogram2d"
           }
          ],
          "histogram2dcontour": [
           {
            "colorbar": {
             "outlinewidth": 0,
             "ticks": ""
            },
            "colorscale": [
             [
              0,
              "#0d0887"
             ],
             [
              0.1111111111111111,
              "#46039f"
             ],
             [
              0.2222222222222222,
              "#7201a8"
             ],
             [
              0.3333333333333333,
              "#9c179e"
             ],
             [
              0.4444444444444444,
              "#bd3786"
             ],
             [
              0.5555555555555556,
              "#d8576b"
             ],
             [
              0.6666666666666666,
              "#ed7953"
             ],
             [
              0.7777777777777778,
              "#fb9f3a"
             ],
             [
              0.8888888888888888,
              "#fdca26"
             ],
             [
              1,
              "#f0f921"
             ]
            ],
            "type": "histogram2dcontour"
           }
          ],
          "mesh3d": [
           {
            "colorbar": {
             "outlinewidth": 0,
             "ticks": ""
            },
            "type": "mesh3d"
           }
          ],
          "parcoords": [
           {
            "line": {
             "colorbar": {
              "outlinewidth": 0,
              "ticks": ""
             }
            },
            "type": "parcoords"
           }
          ],
          "pie": [
           {
            "automargin": true,
            "type": "pie"
           }
          ],
          "scatter": [
           {
            "fillpattern": {
             "fillmode": "overlay",
             "size": 10,
             "solidity": 0.2
            },
            "type": "scatter"
           }
          ],
          "scatter3d": [
           {
            "line": {
             "colorbar": {
              "outlinewidth": 0,
              "ticks": ""
             }
            },
            "marker": {
             "colorbar": {
              "outlinewidth": 0,
              "ticks": ""
             }
            },
            "type": "scatter3d"
           }
          ],
          "scattercarpet": [
           {
            "marker": {
             "colorbar": {
              "outlinewidth": 0,
              "ticks": ""
             }
            },
            "type": "scattercarpet"
           }
          ],
          "scattergeo": [
           {
            "marker": {
             "colorbar": {
              "outlinewidth": 0,
              "ticks": ""
             }
            },
            "type": "scattergeo"
           }
          ],
          "scattergl": [
           {
            "marker": {
             "colorbar": {
              "outlinewidth": 0,
              "ticks": ""
             }
            },
            "type": "scattergl"
           }
          ],
          "scattermapbox": [
           {
            "marker": {
             "colorbar": {
              "outlinewidth": 0,
              "ticks": ""
             }
            },
            "type": "scattermapbox"
           }
          ],
          "scatterpolar": [
           {
            "marker": {
             "colorbar": {
              "outlinewidth": 0,
              "ticks": ""
             }
            },
            "type": "scatterpolar"
           }
          ],
          "scatterpolargl": [
           {
            "marker": {
             "colorbar": {
              "outlinewidth": 0,
              "ticks": ""
             }
            },
            "type": "scatterpolargl"
           }
          ],
          "scatterternary": [
           {
            "marker": {
             "colorbar": {
              "outlinewidth": 0,
              "ticks": ""
             }
            },
            "type": "scatterternary"
           }
          ],
          "surface": [
           {
            "colorbar": {
             "outlinewidth": 0,
             "ticks": ""
            },
            "colorscale": [
             [
              0,
              "#0d0887"
             ],
             [
              0.1111111111111111,
              "#46039f"
             ],
             [
              0.2222222222222222,
              "#7201a8"
             ],
             [
              0.3333333333333333,
              "#9c179e"
             ],
             [
              0.4444444444444444,
              "#bd3786"
             ],
             [
              0.5555555555555556,
              "#d8576b"
             ],
             [
              0.6666666666666666,
              "#ed7953"
             ],
             [
              0.7777777777777778,
              "#fb9f3a"
             ],
             [
              0.8888888888888888,
              "#fdca26"
             ],
             [
              1,
              "#f0f921"
             ]
            ],
            "type": "surface"
           }
          ],
          "table": [
           {
            "cells": {
             "fill": {
              "color": "#EBF0F8"
             },
             "line": {
              "color": "white"
             }
            },
            "header": {
             "fill": {
              "color": "#C8D4E3"
             },
             "line": {
              "color": "white"
             }
            },
            "type": "table"
           }
          ]
         },
         "layout": {
          "annotationdefaults": {
           "arrowcolor": "#2a3f5f",
           "arrowhead": 0,
           "arrowwidth": 1
          },
          "autotypenumbers": "strict",
          "coloraxis": {
           "colorbar": {
            "outlinewidth": 0,
            "ticks": ""
           }
          },
          "colorscale": {
           "diverging": [
            [
             0,
             "#8e0152"
            ],
            [
             0.1,
             "#c51b7d"
            ],
            [
             0.2,
             "#de77ae"
            ],
            [
             0.3,
             "#f1b6da"
            ],
            [
             0.4,
             "#fde0ef"
            ],
            [
             0.5,
             "#f7f7f7"
            ],
            [
             0.6,
             "#e6f5d0"
            ],
            [
             0.7,
             "#b8e186"
            ],
            [
             0.8,
             "#7fbc41"
            ],
            [
             0.9,
             "#4d9221"
            ],
            [
             1,
             "#276419"
            ]
           ],
           "sequential": [
            [
             0,
             "#0d0887"
            ],
            [
             0.1111111111111111,
             "#46039f"
            ],
            [
             0.2222222222222222,
             "#7201a8"
            ],
            [
             0.3333333333333333,
             "#9c179e"
            ],
            [
             0.4444444444444444,
             "#bd3786"
            ],
            [
             0.5555555555555556,
             "#d8576b"
            ],
            [
             0.6666666666666666,
             "#ed7953"
            ],
            [
             0.7777777777777778,
             "#fb9f3a"
            ],
            [
             0.8888888888888888,
             "#fdca26"
            ],
            [
             1,
             "#f0f921"
            ]
           ],
           "sequentialminus": [
            [
             0,
             "#0d0887"
            ],
            [
             0.1111111111111111,
             "#46039f"
            ],
            [
             0.2222222222222222,
             "#7201a8"
            ],
            [
             0.3333333333333333,
             "#9c179e"
            ],
            [
             0.4444444444444444,
             "#bd3786"
            ],
            [
             0.5555555555555556,
             "#d8576b"
            ],
            [
             0.6666666666666666,
             "#ed7953"
            ],
            [
             0.7777777777777778,
             "#fb9f3a"
            ],
            [
             0.8888888888888888,
             "#fdca26"
            ],
            [
             1,
             "#f0f921"
            ]
           ]
          },
          "colorway": [
           "#636efa",
           "#EF553B",
           "#00cc96",
           "#ab63fa",
           "#FFA15A",
           "#19d3f3",
           "#FF6692",
           "#B6E880",
           "#FF97FF",
           "#FECB52"
          ],
          "font": {
           "color": "#2a3f5f"
          },
          "geo": {
           "bgcolor": "white",
           "lakecolor": "white",
           "landcolor": "#E5ECF6",
           "showlakes": true,
           "showland": true,
           "subunitcolor": "white"
          },
          "hoverlabel": {
           "align": "left"
          },
          "hovermode": "closest",
          "mapbox": {
           "style": "light"
          },
          "paper_bgcolor": "white",
          "plot_bgcolor": "#E5ECF6",
          "polar": {
           "angularaxis": {
            "gridcolor": "white",
            "linecolor": "white",
            "ticks": ""
           },
           "bgcolor": "#E5ECF6",
           "radialaxis": {
            "gridcolor": "white",
            "linecolor": "white",
            "ticks": ""
           }
          },
          "scene": {
           "xaxis": {
            "backgroundcolor": "#E5ECF6",
            "gridcolor": "white",
            "gridwidth": 2,
            "linecolor": "white",
            "showbackground": true,
            "ticks": "",
            "zerolinecolor": "white"
           },
           "yaxis": {
            "backgroundcolor": "#E5ECF6",
            "gridcolor": "white",
            "gridwidth": 2,
            "linecolor": "white",
            "showbackground": true,
            "ticks": "",
            "zerolinecolor": "white"
           },
           "zaxis": {
            "backgroundcolor": "#E5ECF6",
            "gridcolor": "white",
            "gridwidth": 2,
            "linecolor": "white",
            "showbackground": true,
            "ticks": "",
            "zerolinecolor": "white"
           }
          },
          "shapedefaults": {
           "line": {
            "color": "#2a3f5f"
           }
          },
          "ternary": {
           "aaxis": {
            "gridcolor": "white",
            "linecolor": "white",
            "ticks": ""
           },
           "baxis": {
            "gridcolor": "white",
            "linecolor": "white",
            "ticks": ""
           },
           "bgcolor": "#E5ECF6",
           "caxis": {
            "gridcolor": "white",
            "linecolor": "white",
            "ticks": ""
           }
          },
          "title": {
           "x": 0.05
          },
          "xaxis": {
           "automargin": true,
           "gridcolor": "white",
           "linecolor": "white",
           "ticks": "",
           "title": {
            "standoff": 15
           },
           "zerolinecolor": "white",
           "zerolinewidth": 2
          },
          "yaxis": {
           "automargin": true,
           "gridcolor": "white",
           "linecolor": "white",
           "ticks": "",
           "title": {
            "standoff": 15
           },
           "zerolinecolor": "white",
           "zerolinewidth": 2
          }
         }
        },
        "width": 500,
        "xaxis": {
         "anchor": "y",
         "domain": [
          0,
          1
         ],
         "range": [
          0,
          200
         ],
         "title": {
          "text": "x"
         }
        },
        "yaxis": {
         "anchor": "x",
         "domain": [
          0,
          1
         ],
         "range": [
          0,
          200
         ],
         "title": {
          "text": "y"
         }
        }
       }
      }
     },
     "metadata": {},
     "output_type": "display_data"
    }
   ],
   "source": [
    "fig.update_layout(yaxis_range=[0,200], xaxis_range=[0, 200])"
   ]
  },
  {
   "cell_type": "code",
   "execution_count": null,
   "metadata": {},
   "outputs": [],
   "source": []
  }
 ],
 "metadata": {
  "interpreter": {
   "hash": "573e3c2ecb651d6afad28ec8be1229c903b2bf13a44a067e93e45c857bcbad04"
  },
  "kernelspec": {
   "display_name": "Python 3.8.11 64-bit ('rl-MEC-scheduler')",
   "language": "python",
   "name": "python3"
  },
  "language_info": {
   "codemirror_mode": {
    "name": "ipython",
    "version": 3
   },
   "file_extension": ".py",
   "mimetype": "text/x-python",
   "name": "python",
   "nbconvert_exporter": "python",
   "pygments_lexer": "ipython3",
   "version": "3.8.13"
  },
  "orig_nbformat": 4
 },
 "nbformat": 4,
 "nbformat_minor": 2
}
